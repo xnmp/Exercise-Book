{
 "cells": [
  {
   "cell_type": "markdown",
   "metadata": {},
   "source": [
    "# Gradient Descent\n",
    "\n",
    "In this exercise we have a data set which consists of a some periodic\n",
    "data and some noise. We don't have a full cycle for the period, so \n",
    "this isn't easy to work with.\n",
    "\n",
    "What we'll do is use gradient descent to find a likely set of parameters."
   ]
  },
  {
   "cell_type": "markdown",
   "metadata": {},
   "source": [
    "The data is in wheel.csv.\n",
    "\n",
    "We would like to understand the relationship between _seconds_ and _signal_"
   ]
  },
  {
   "cell_type": "code",
   "execution_count": 2,
   "metadata": {
    "collapsed": false
   },
   "outputs": [],
   "source": [
    "import pandas as pd\n",
    "wheel = pd.read_csv('datasets/wheel.csv')"
   ]
  },
  {
   "cell_type": "code",
   "execution_count": 3,
   "metadata": {
    "collapsed": false
   },
   "outputs": [
    {
     "data": {
      "text/plain": [
       "[<matplotlib.lines.Line2D at 0x7fe72db9e050>]"
      ]
     },
     "execution_count": 3,
     "metadata": {},
     "output_type": "execute_result"
    },
    {
     "data": {
      "image/png": "[encoded data removed]",
      "text/plain": [
       "<matplotlib.figure.Figure at 0x7fe740057c90>"
      ]
     },
     "metadata": {},
     "output_type": "display_data"
    }
   ],
   "source": [
    "# Plot the graph of signal vs seconds.\n",
    "# Does it look linear?\n",
    "%matplotlib inline\n",
    "import matplotlib.pyplot as plt\n",
    "plt.plot(wheel['seconds'],wheel['signal'])"
   ]
  },
  {
   "cell_type": "markdown",
   "metadata": {},
   "source": [
    "In the following cell, we define the function that we think might be\n",
    "the relationship between signal and seconds, but it has many parameters (a, b and c). \n",
    "\n",
    "The argument _t_ is where we will pass in \"seconds\"; the function returns a value that is hopefully equivalent to signal."
   ]
  },
  {
   "cell_type": "code",
   "execution_count": null,
   "metadata": {
    "collapsed": false
   },
   "outputs": [],
   "source": [
    "import math\n",
    "def underlying_function(t, a,b,c):\n",
    "    return math.sin(a * t + b) + c"
   ]
  },
  {
   "cell_type": "markdown",
   "metadata": {},
   "source": [
    "We need a function that says how close a match a particular set of\n",
    "parameters are: let's use the mean squared error to make sense of it."
   ]
  },
  {
   "cell_type": "code",
   "execution_count": null,
   "metadata": {
    "collapsed": false
   },
   "outputs": [],
   "source": [
    "import sklearn.metrics\n",
    "\n",
    "def try_a_b_c(a,b,c):\n",
    "    this_try = [underlying_function(w, a, b, c) for w in wheel.seconds]\n",
    "    return sklearn.metrics.mean_squared_error(this_try, wheel.signal)"
   ]
  },
  {
   "cell_type": "markdown",
   "metadata": {},
   "source": [
    "We don't need an exact derivative: a close approximation will do.\n",
    "\n",
    "try_a_b_c is a function in three dimensions (a, b and c) so the gradient\n",
    "is a 3-dimensional vector (which we store in a numpy array)."
   ]
  },
  {
   "cell_type": "code",
   "execution_count": null,
   "metadata": {
    "collapsed": false
   },
   "outputs": [],
   "source": [
    "import numpy\n",
    "def gradient_of_try_a_b_c(a, b, c, delta=0.0001):\n",
    "    here = try_a_b_c(a,b,c)\n",
    "    a_gradient = (try_a_b_c(a+delta, b, c) - here) / delta\n",
    "    b_gradient = (try_a_b_c(a, b+delta, c) - here) / delta\n",
    "    c_gradient = (try_a_b_c(a, b, c+delta) - here) / delta\n",
    "    return numpy.array([a_gradient,b_gradient,c_gradient])"
   ]
  },
  {
   "cell_type": "markdown",
   "metadata": {},
   "source": [
    "The following code implements gradient descent."
   ]
  },
  {
   "cell_type": "code",
   "execution_count": null,
   "metadata": {
    "collapsed": false
   },
   "outputs": [],
   "source": [
    "def gradient_descent(gradient_func, a0, b0, c0, l=0.01):\n",
    "    vector = numpy.array([a0, b0, c0])\n",
    "    g = gradient_func(a0, b0, c0)\n",
    "    return vector - l * g\n",
    "\n",
    "def gradient_descent_iterate(starting_point, \n",
    "                             gradient=gradient_of_try_a_b_c, \n",
    "                             n=10,\n",
    "                             l=0.01):\n",
    "    points = [starting_point]\n",
    "    for i in range(n):\n",
    "        (a,b,c) = points[-1]\n",
    "        new_point = gradient_descent(gradient, a,b,c, l)\n",
    "        points.append(new_point)\n",
    "    return points"
   ]
  },
  {
   "cell_type": "markdown",
   "metadata": {},
   "source": [
    "Pick a starting point: it doesn't matter much which point you choose."
   ]
  },
  {
   "cell_type": "code",
   "execution_count": null,
   "metadata": {
    "collapsed": false
   },
   "outputs": [],
   "source": [
    "starting_point = numpy.array([   ,     ,   ])"
   ]
  },
  {
   "cell_type": "markdown",
   "metadata": {},
   "source": [
    "What's the value of try_a_b_c at this starting point?"
   ]
  },
  {
   "cell_type": "code",
   "execution_count": null,
   "metadata": {
    "collapsed": false
   },
   "outputs": [],
   "source": []
  },
  {
   "cell_type": "markdown",
   "metadata": {},
   "source": [
    "Iterate one step with gradient_descent_iterate. What does it suggest\n",
    "is a better point (with a lower error)?"
   ]
  },
  {
   "cell_type": "code",
   "execution_count": null,
   "metadata": {
    "collapsed": false
   },
   "outputs": [],
   "source": []
  },
  {
   "cell_type": "markdown",
   "metadata": {},
   "source": [
    "What's the value of try_a_b_c at this point?"
   ]
  },
  {
   "cell_type": "code",
   "execution_count": null,
   "metadata": {
    "collapsed": false
   },
   "outputs": [],
   "source": []
  },
  {
   "cell_type": "markdown",
   "metadata": {},
   "source": [
    "What about if you iterate 100 times? Or 1000 times? Try some different\n",
    "learning rates."
   ]
  },
  {
   "cell_type": "code",
   "execution_count": null,
   "metadata": {
    "collapsed": false
   },
   "outputs": [],
   "source": []
  },
  {
   "cell_type": "markdown",
   "metadata": {},
   "source": [
    "Try to guess the values of a, b and c . Evaluate try_a_b_c at this point"
   ]
  },
  {
   "cell_type": "code",
   "execution_count": null,
   "metadata": {
    "collapsed": false
   },
   "outputs": [],
   "source": []
  },
  {
   "cell_type": "markdown",
   "metadata": {},
   "source": [
    "Use underlying_function with the a,b and c you found, and use it to \n",
    "make predictions for signal from seconds. Plot the results. How well does it compare?"
   ]
  },
  {
   "cell_type": "code",
   "execution_count": null,
   "metadata": {
    "collapsed": false
   },
   "outputs": [],
   "source": []
  },
  {
   "cell_type": "code",
   "execution_count": 21,
   "metadata": {
    "collapsed": false
   },
   "outputs": [
    {
     "data": {
      "text/plain": [
       "array([  6.91319379e+02,  -1.27408152e+01,  -3.87672890e+00,\n",
       "         4.56607614e+00,   1.65013884e-01,   8.92586592e+00,\n",
       "         6.59463401e+00,   4.98923106e+00,   4.96125181e+00,\n",
       "         7.06931762e+00,   8.08349553e+00,  -6.24836185e+00,\n",
       "        -7.10746382e+00,   8.37315463e+00,   6.71927380e+00,\n",
       "        -4.70625662e+00,  -4.14636038e+00,  -3.00052307e-01,\n",
       "         4.10714242e+00,   1.06033251e+01,   7.93491500e+00,\n",
       "        -5.43134128e+00,   1.57103830e+01,  -2.41014134e-01,\n",
       "         3.26714611e+00,   8.93784911e+00,  -4.12313144e-01,\n",
       "         1.81353342e+00,   4.48150937e+00,   5.23713750e+00,\n",
       "         3.80145037e+00,   4.63168345e-01,  -1.71022241e+00,\n",
       "        -1.65265110e+00,   3.45139363e+00,   7.41440399e-01,\n",
       "        -7.76200437e-01,   1.40330074e+00,  -4.53458606e+00,\n",
       "         7.79887236e-01,  -4.89855838e+00,   1.05926525e+01,\n",
       "        -8.59395820e+00,   7.80712093e+00,  -8.94355097e+00,\n",
       "         6.49176838e+00,   6.20017621e+00,  -8.45021791e-01,\n",
       "         1.52326173e+01,   4.95087936e-02,  -3.10089908e+00,\n",
       "         4.46265045e+00,   6.38704990e+00,  -3.86781044e+00,\n",
       "        -2.94231187e-01,   1.68168864e-01,  -6.19867970e-02,\n",
       "        -6.51461871e+00,   3.23819394e+00,  -8.21975607e+00,\n",
       "         3.68793925e+00,   1.63426334e-01,  -2.63966835e+00,\n",
       "        -4.22715146e+00,   1.84499494e+00,  -5.16314575e+00,\n",
       "        -4.78856460e+00,   5.32017888e+00,  -6.17646256e+00,\n",
       "         9.47504026e+00,   1.47031231e-01,  -6.24105330e+00,\n",
       "        -5.50662342e+00,  -5.99862466e+00,  -2.53326768e+00,\n",
       "         7.81824309e+00,  -8.05126724e+00,   1.50215557e+00,\n",
       "         5.81952485e+00,  -4.36373328e+00,   2.46302912e+00,\n",
       "        -5.93064845e+00,   2.14916940e+00,  -1.68017274e+00,\n",
       "        -1.08226403e+01,  -4.70469177e+00,   6.91356201e+00,\n",
       "         5.31103852e+00,   3.59634287e+00,  -5.88217063e+00,\n",
       "        -2.33560122e+00,  -1.34346340e+00,   9.09530403e-01,\n",
       "         6.17785401e+00,   5.63195352e+00,  -6.89725255e+00,\n",
       "        -3.67115984e+00,  -1.27390222e+00,  -1.22223012e+01,\n",
       "        -5.99929958e+00,  -1.81466453e+00,   7.61675046e+00,\n",
       "         2.81022904e+00,  -3.10874968e+00,   6.62696609e+00,\n",
       "         1.62962989e+01,   2.07836441e+00,  -3.55902284e+00,\n",
       "         1.22980101e-01,   5.86110612e+00,   1.63122492e+00,\n",
       "        -5.59234198e+00,   2.70441119e+00,  -4.26319980e+00,\n",
       "        -4.38168028e+00,   3.10574948e+00,  -3.06047766e+00,\n",
       "        -2.01123292e+00,   2.56619409e+00,   6.42017722e-01,\n",
       "        -7.14180472e+00,   3.01936039e-01,  -1.21557363e+00,\n",
       "         4.41480060e+00,  -1.23902857e+00,  -2.11644742e+00,\n",
       "        -1.12652368e-01,  -2.56642810e+00,  -3.26335992e+00,\n",
       "         6.94654757e+00,   1.40826064e+00,   7.54512783e+00,\n",
       "         7.32671074e+00,   1.50365595e+01,  -8.34302627e+00,\n",
       "         6.49174049e+00,   6.19108244e-01,  -9.95631555e+00,\n",
       "        -8.44762196e-01,  -9.78954242e-01,   2.18954520e+00,\n",
       "         2.16390661e+00,  -3.81434357e+00,  -2.69129488e+00,\n",
       "        -3.85705021e-02,  -6.71184299e+00,   5.69880572e+00,\n",
       "         1.93623997e+00,   2.94009356e+00,  -4.51489415e+00,\n",
       "         4.48123680e-02,   6.55210679e+00,  -4.66278589e+00,\n",
       "        -4.79035375e+00,   9.63779751e+00,  -1.21393612e+01,\n",
       "        -4.14385743e+00,  -1.12620754e+01,  -2.26012372e+00,\n",
       "         4.53734314e+00,   5.89347626e-02,  -7.90128683e+00,\n",
       "        -1.04760972e-01,  -5.95874962e+00,  -5.75530013e+00,\n",
       "         6.22454653e+00,   3.57501847e+00,  -8.25344911e+00,\n",
       "        -2.90692866e-01,   2.96317581e-01,  -9.74988804e+00,\n",
       "        -5.40865055e+00,  -2.62300637e+00,   1.71364586e+00,\n",
       "        -1.35122945e+00,  -3.15406277e+00,   6.04161051e+00,\n",
       "        -5.21970746e+00,  -2.69373881e+00,   3.09578200e+00,\n",
       "         6.69208590e-01,   1.04513313e-02,   1.62887678e+00,\n",
       "         1.15042242e+01,  -2.96980597e+00,   7.70003861e+00,\n",
       "        -1.42013383e+00,  -1.28196318e+00,  -1.11407078e+00,\n",
       "        -2.99301879e+00,   4.29516556e-01,  -1.21906853e+01,\n",
       "        -4.20257602e+00,   6.43326106e+00,   5.62381780e+00,\n",
       "         3.64678246e+00,   1.62119275e+00,  -1.56466173e+00,\n",
       "         1.66999007e+01,   3.71236523e+00,   8.67423143e+00,\n",
       "         1.08766267e-01,   5.48553850e+00,   2.14950627e+01,\n",
       "        -1.15147902e+00,  -4.56669577e+00,   9.02522316e+00,\n",
       "        -1.18286989e+01,   1.46934564e+00,  -1.23925072e+00,\n",
       "         2.07431919e+00,  -1.09261647e+00,  -2.60553123e+00,\n",
       "        -3.69523604e+00,  -7.47076909e-01,  -1.27414803e+00,\n",
       "         7.44066298e-01,   5.33260843e+00,   2.62155634e+00,\n",
       "         2.12314695e+00,   7.24040006e+00,  -8.27978073e+00,\n",
       "         3.34691123e+00,   3.91172760e+00,  -3.03840721e+00,\n",
       "        -9.28043338e+00,   6.88939439e+00,   2.97503408e+00,\n",
       "        -7.08466481e+00,   3.06207696e+00,  -2.32498056e+00,\n",
       "         5.74603158e+00,   5.56813238e+00,  -1.91916071e-01,\n",
       "         2.50080498e+00,   6.67867101e+00,  -7.27930278e+00,\n",
       "         8.74189046e+00,  -1.51006664e+00,  -7.93007060e-01,\n",
       "         1.83440500e-01,   8.53242190e+00,  -3.81356144e+00,\n",
       "         5.00253592e+00,   8.58169957e-01,   1.32635996e+00,\n",
       "         5.50402753e+00,  -1.02034585e+00,  -5.20629176e+00,\n",
       "         1.98908752e+00,   3.09112990e+00,   5.38604523e+00,\n",
       "         4.43381783e+00,  -3.42602350e+00,   1.56801381e+00,\n",
       "         1.46801365e+00,  -9.83086581e-01,  -3.53141282e+00,\n",
       "        -4.03769427e+00,   2.11561589e+00,  -5.25867250e+00,\n",
       "        -4.44836646e+00,  -6.50686593e+00,   1.18237547e+00,\n",
       "        -7.41155188e+00,  -4.42467021e+00,   7.81614868e-01,\n",
       "         6.69881194e+00,   7.21292307e+00,  -4.93655012e+00,\n",
       "         6.80943054e-01,   8.47233247e-01,  -8.89521152e+00,\n",
       "         2.32001731e+00,  -4.42616257e+00,   5.58590131e+00,\n",
       "        -2.83368054e+00,   6.42501056e+00,  -1.34791458e+01,\n",
       "         2.24420396e+00,  -8.06236818e+00,  -2.50888555e+00,\n",
       "        -4.68391252e+00,  -4.72484632e+00,   6.33063224e+00,\n",
       "         4.08706659e+00,   2.49062761e+00,   2.88914986e+00,\n",
       "        -2.18501117e+00,  -5.07275201e+00,   4.60738456e+00,\n",
       "         4.91967630e-02,   1.50307983e-01,  -4.63460713e+00,\n",
       "        -4.37937865e-01,  -5.42666309e+00,   3.85688725e+00,\n",
       "         4.12807229e+00,  -6.52073821e+00,  -3.18851387e+00,\n",
       "        -5.59354416e+00,   3.84348865e+00,  -8.03572327e+00,\n",
       "        -6.56831670e+00,  -2.24075455e+00,   2.94172090e+00,\n",
       "         1.16959042e+01,   1.75999715e+00,  -4.06993380e-01,\n",
       "        -2.39132248e+00,   4.80971391e+00,  -1.09524766e+01,\n",
       "         7.23901326e+00,   7.61081755e+00,   3.76488744e-01,\n",
       "         4.62776689e+00,   6.99148031e+00,   1.52621776e+01,\n",
       "        -3.08962564e-01,   2.79997888e+00,   5.20780468e+00,\n",
       "        -4.17837525e+00,  -1.33751174e+00,   1.08748759e+00,\n",
       "         1.33092923e+01,   4.62527646e+00,   1.34048234e-01,\n",
       "        -2.28731870e+00,  -7.62291183e+00,  -3.13043577e+00,\n",
       "         5.31854722e+00,   8.55191746e-01,  -9.30014794e+00,\n",
       "        -6.49706213e+00,  -1.04467373e+01,   4.53772452e+00,\n",
       "        -2.30624144e+00,  -2.08114259e+00,  -4.24532591e+00,\n",
       "        -3.82090563e-01,  -9.62153699e+00,   1.16322324e+01,\n",
       "        -1.81773007e+00,  -1.29237990e+00,  -1.07979850e+00,\n",
       "         3.00443043e+00,   2.21483216e+00,   3.54215912e+00,\n",
       "        -1.31898659e+00,   5.84917544e+00,   6.33227820e+00,\n",
       "        -2.43076289e-01,  -7.67177885e-01,  -4.98384619e+00,\n",
       "         1.23575448e+01,   3.78724332e+00,   7.83781845e-01,\n",
       "         2.95175107e+00,  -9.08788398e+00,   1.04561454e+01,\n",
       "        -4.82922408e+00,  -6.14380624e+00,  -1.26365294e+01,\n",
       "         4.20403548e+00,  -6.97011768e+00,   2.01728688e-01,\n",
       "        -2.36814363e+00,   4.99049991e+00,   2.87650456e+00,\n",
       "         1.40804252e+00,   4.75373772e+00,  -2.07855244e+00,\n",
       "        -3.51220974e+00,   2.81804884e+00,   1.89760458e+00,\n",
       "        -7.81673364e+00,  -1.16359677e+01,  -1.91739843e+00,\n",
       "        -7.81966675e+00,  -7.97815902e-01,   8.16765743e+00,\n",
       "         1.38437423e+00,   5.84599170e+00,  -1.02816110e+01,\n",
       "         3.67644155e+00,  -6.05698731e-01,   2.70119547e+00,\n",
       "         2.68502677e+00,  -2.71684092e+00,   2.50476163e+00,\n",
       "        -3.83573534e+00,  -9.02420426e-01,   1.67965985e+00,\n",
       "        -8.13886313e+00,   2.57478158e+00,  -4.40201907e-01,\n",
       "        -4.48054671e+00,  -8.89508705e+00,   4.65005688e+00,\n",
       "         2.06957630e+00,   4.47078005e+00,   2.06957630e+00,\n",
       "         4.65005688e+00,  -8.89508705e+00,  -4.48054671e+00,\n",
       "        -4.40201907e-01,   2.57478158e+00,  -8.13886313e+00,\n",
       "         1.67965985e+00,  -9.02420426e-01,  -3.83573534e+00,\n",
       "         2.50476163e+00,  -2.71684092e+00,   2.68502677e+00,\n",
       "         2.70119547e+00,  -6.05698731e-01,   3.67644155e+00,\n",
       "        -1.02816110e+01,   5.84599170e+00,   1.38437423e+00,\n",
       "         8.16765743e+00,  -7.97815902e-01,  -7.81966675e+00,\n",
       "        -1.91739843e+00,  -1.16359677e+01,  -7.81673364e+00,\n",
       "         1.89760458e+00,   2.81804884e+00,  -3.51220974e+00,\n",
       "        -2.07855244e+00,   4.75373772e+00,   1.40804252e+00,\n",
       "         2.87650456e+00,   4.99049991e+00,  -2.36814363e+00,\n",
       "         2.01728688e-01,  -6.97011768e+00,   4.20403548e+00,\n",
       "        -1.26365294e+01,  -6.14380624e+00,  -4.82922408e+00,\n",
       "         1.04561454e+01,  -9.08788398e+00,   2.95175107e+00,\n",
       "         7.83781845e-01,   3.78724332e+00,   1.23575448e+01,\n",
       "        -4.98384619e+00,  -7.67177885e-01,  -2.43076289e-01,\n",
       "         6.33227820e+00,   5.84917544e+00,  -1.31898659e+00,\n",
       "         3.54215912e+00,   2.21483216e+00,   3.00443043e+00,\n",
       "        -1.07979850e+00,  -1.29237990e+00,  -1.81773007e+00,\n",
       "         1.16322324e+01,  -9.62153699e+00,  -3.82090563e-01,\n",
       "        -4.24532591e+00,  -2.08114259e+00,  -2.30624144e+00,\n",
       "         4.53772452e+00,  -1.04467373e+01,  -6.49706213e+00,\n",
       "        -9.30014794e+00,   8.55191746e-01,   5.31854722e+00,\n",
       "        -3.13043577e+00,  -7.62291183e+00,  -2.28731870e+00,\n",
       "         1.34048234e-01,   4.62527646e+00,   1.33092923e+01,\n",
       "         1.08748759e+00,  -1.33751174e+00,  -4.17837525e+00,\n",
       "         5.20780468e+00,   2.79997888e+00,  -3.08962564e-01,\n",
       "         1.52621776e+01,   6.99148031e+00,   4.62776689e+00,\n",
       "         3.76488744e-01,   7.61081755e+00,   7.23901326e+00,\n",
       "        -1.09524766e+01,   4.80971391e+00,  -2.39132248e+00,\n",
       "        -4.06993380e-01,   1.75999715e+00,   1.16959042e+01,\n",
       "         2.94172090e+00,  -2.24075455e+00,  -6.56831670e+00,\n",
       "        -8.03572327e+00,   3.84348865e+00,  -5.59354416e+00,\n",
       "        -3.18851387e+00,  -6.52073821e+00,   4.12807229e+00,\n",
       "         3.85688725e+00,  -5.42666309e+00,  -4.37937865e-01,\n",
       "        -4.63460713e+00,   1.50307983e-01,   4.91967630e-02,\n",
       "         4.60738456e+00,  -5.07275201e+00,  -2.18501117e+00,\n",
       "         2.88914986e+00,   2.49062761e+00,   4.08706659e+00,\n",
       "         6.33063224e+00,  -4.72484632e+00,  -4.68391252e+00,\n",
       "        -2.50888555e+00,  -8.06236818e+00,   2.24420396e+00,\n",
       "        -1.34791458e+01,   6.42501056e+00,  -2.83368054e+00,\n",
       "         5.58590131e+00,  -4.42616257e+00,   2.32001731e+00,\n",
       "        -8.89521152e+00,   8.47233247e-01,   6.80943054e-01,\n",
       "        -4.93655012e+00,   7.21292307e+00,   6.69881194e+00,\n",
       "         7.81614868e-01,  -4.42467021e+00,  -7.41155188e+00,\n",
       "         1.18237547e+00,  -6.50686593e+00,  -4.44836646e+00,\n",
       "        -5.25867250e+00,   2.11561589e+00,  -4.03769427e+00,\n",
       "        -3.53141282e+00,  -9.83086581e-01,   1.46801365e+00,\n",
       "         1.56801381e+00,  -3.42602350e+00,   4.43381783e+00,\n",
       "         5.38604523e+00,   3.09112990e+00,   1.98908752e+00,\n",
       "        -5.20629176e+00,  -1.02034585e+00,   5.50402753e+00,\n",
       "         1.32635996e+00,   8.58169957e-01,   5.00253592e+00,\n",
       "        -3.81356144e+00,   8.53242190e+00,   1.83440500e-01,\n",
       "        -7.93007060e-01,  -1.51006664e+00,   8.74189046e+00,\n",
       "        -7.27930278e+00,   6.67867101e+00,   2.50080498e+00,\n",
       "        -1.91916071e-01,   5.56813238e+00,   5.74603158e+00,\n",
       "        -2.32498056e+00,   3.06207696e+00,  -7.08466481e+00,\n",
       "         2.97503408e+00,   6.88939439e+00,  -9.28043338e+00,\n",
       "        -3.03840721e+00,   3.91172760e+00,   3.34691123e+00,\n",
       "        -8.27978073e+00,   7.24040006e+00,   2.12314695e+00,\n",
       "         2.62155634e+00,   5.33260843e+00,   7.44066298e-01,\n",
       "        -1.27414803e+00,  -7.47076909e-01,  -3.69523604e+00,\n",
       "        -2.60553123e+00,  -1.09261647e+00,   2.07431919e+00,\n",
       "        -1.23925072e+00,   1.46934564e+00,  -1.18286989e+01,\n",
       "         9.02522316e+00,  -4.56669577e+00,  -1.15147902e+00,\n",
       "         2.14950627e+01,   5.48553850e+00,   1.08766267e-01,\n",
       "         8.67423143e+00,   3.71236523e+00,   1.66999007e+01,\n",
       "        -1.56466173e+00,   1.62119275e+00,   3.64678246e+00,\n",
       "         5.62381780e+00,   6.43326106e+00,  -4.20257602e+00,\n",
       "        -1.21906853e+01,   4.29516556e-01,  -2.99301879e+00,\n",
       "        -1.11407078e+00,  -1.28196318e+00,  -1.42013383e+00,\n",
       "         7.70003861e+00,  -2.96980597e+00,   1.15042242e+01,\n",
       "         1.62887678e+00,   1.04513313e-02,   6.69208590e-01,\n",
       "         3.09578200e+00,  -2.69373881e+00,  -5.21970746e+00,\n",
       "         6.04161051e+00,  -3.15406277e+00,  -1.35122945e+00,\n",
       "         1.71364586e+00,  -2.62300637e+00,  -5.40865055e+00,\n",
       "        -9.74988804e+00,   2.96317581e-01,  -2.90692866e-01,\n",
       "        -8.25344911e+00,   3.57501847e+00,   6.22454653e+00,\n",
       "        -5.75530013e+00,  -5.95874962e+00,  -1.04760972e-01,\n",
       "        -7.90128683e+00,   5.89347626e-02,   4.53734314e+00,\n",
       "        -2.26012372e+00,  -1.12620754e+01,  -4.14385743e+00,\n",
       "        -1.21393612e+01,   9.63779751e+00,  -4.79035375e+00,\n",
       "        -4.66278589e+00,   6.55210679e+00,   4.48123680e-02,\n",
       "        -4.51489415e+00,   2.94009356e+00,   1.93623997e+00,\n",
       "         5.69880572e+00,  -6.71184299e+00,  -3.85705021e-02,\n",
       "        -2.69129488e+00,  -3.81434357e+00,   2.16390661e+00,\n",
       "         2.18954520e+00,  -9.78954242e-01,  -8.44762196e-01,\n",
       "        -9.95631555e+00,   6.19108244e-01,   6.49174049e+00,\n",
       "        -8.34302627e+00,   1.50365595e+01,   7.32671074e+00,\n",
       "         7.54512783e+00,   1.40826064e+00,   6.94654757e+00,\n",
       "        -3.26335992e+00,  -2.56642810e+00,  -1.12652368e-01,\n",
       "        -2.11644742e+00,  -1.23902857e+00,   4.41480060e+00,\n",
       "        -1.21557363e+00,   3.01936039e-01,  -7.14180472e+00,\n",
       "         6.42017722e-01,   2.56619409e+00,  -2.01123292e+00,\n",
       "        -3.06047766e+00,   3.10574948e+00,  -4.38168028e+00,\n",
       "        -4.26319980e+00,   2.70441119e+00,  -5.59234198e+00,\n",
       "         1.63122492e+00,   5.86110612e+00,   1.22980101e-01,\n",
       "        -3.55902284e+00,   2.07836441e+00,   1.62962989e+01,\n",
       "         6.62696609e+00,  -3.10874968e+00,   2.81022904e+00,\n",
       "         7.61675046e+00,  -1.81466453e+00,  -5.99929958e+00,\n",
       "        -1.22223012e+01,  -1.27390222e+00,  -3.67115984e+00,\n",
       "        -6.89725255e+00,   5.63195352e+00,   6.17785401e+00,\n",
       "         9.09530403e-01,  -1.34346340e+00,  -2.33560122e+00,\n",
       "        -5.88217063e+00,   3.59634287e+00,   5.31103852e+00,\n",
       "         6.91356201e+00,  -4.70469177e+00,  -1.08226403e+01,\n",
       "        -1.68017274e+00,   2.14916940e+00,  -5.93064845e+00,\n",
       "         2.46302912e+00,  -4.36373328e+00,   5.81952485e+00,\n",
       "         1.50215557e+00,  -8.05126724e+00,   7.81824309e+00,\n",
       "        -2.53326768e+00,  -5.99862466e+00,  -5.50662342e+00,\n",
       "        -6.24105330e+00,   1.47031231e-01,   9.47504026e+00,\n",
       "        -6.17646256e+00,   5.32017888e+00,  -4.78856460e+00,\n",
       "        -5.16314575e+00,   1.84499494e+00,  -4.22715146e+00,\n",
       "        -2.63966835e+00,   1.63426334e-01,   3.68793925e+00,\n",
       "        -8.21975607e+00,   3.23819394e+00,  -6.51461871e+00,\n",
       "        -6.19867970e-02,   1.68168864e-01,  -2.94231187e-01,\n",
       "        -3.86781044e+00,   6.38704990e+00,   4.46265045e+00,\n",
       "        -3.10089908e+00,   4.95087936e-02,   1.52326173e+01,\n",
       "        -8.45021791e-01,   6.20017621e+00,   6.49176838e+00,\n",
       "        -8.94355097e+00,   7.80712093e+00,  -8.59395820e+00,\n",
       "         1.05926525e+01,  -4.89855838e+00,   7.79887236e-01,\n",
       "        -4.53458606e+00,   1.40330074e+00,  -7.76200437e-01,\n",
       "         7.41440399e-01,   3.45139363e+00,  -1.65265110e+00,\n",
       "        -1.71022241e+00,   4.63168345e-01,   3.80145037e+00,\n",
       "         5.23713750e+00,   4.48150937e+00,   1.81353342e+00,\n",
       "        -4.12313144e-01,   8.93784911e+00,   3.26714611e+00,\n",
       "        -2.41014134e-01,   1.57103830e+01,  -5.43134128e+00,\n",
       "         7.93491500e+00,   1.06033251e+01,   4.10714242e+00,\n",
       "        -3.00052307e-01,  -4.14636038e+00,  -4.70625662e+00,\n",
       "         6.71927380e+00,   8.37315463e+00,  -7.10746382e+00,\n",
       "        -6.24836185e+00,   8.08349553e+00,   7.06931762e+00,\n",
       "         4.96125181e+00,   4.98923106e+00,   6.59463401e+00,\n",
       "         8.92586592e+00,   1.65013884e-01,   4.56607614e+00,\n",
       "        -3.87672890e+00,  -1.27408152e+01])"
      ]
     },
     "execution_count": 21,
     "metadata": {},
     "output_type": "execute_result"
    },
    {
     "data": {
      "image/png": "[encoded data removed]",
      "text/plain": [
       "<matplotlib.figure.Figure at 0x7fe72ce62110>"
      ]
     },
     "metadata": {},
     "output_type": "display_data"
    }
   ],
   "source": [
    "import numpy as np\n",
    "t = np.arange(256)\n",
    "sp = np.fft.fft(wheel['signal'])\n",
    "#freq = np.fft.fftfreq(t.shape[-1])\n",
    "fig = plt.figure\n",
    "fig = plt.gcf()\n",
    "fig.set_size_inches(18.5, 10.5)\n",
    "plt.scatter(range(len(sp.real)),sp.real)\n",
    "#plt.plot(sp.imag)\n",
    "\n",
    "sp.real\n"
   ]
  },
  {
   "cell_type": "code",
   "execution_count": null,
   "metadata": {
    "collapsed": true
   },
   "outputs": [],
   "source": []
  }
 ],
 "metadata": {
  "kernelspec": {
   "display_name": "Python [Root]",
   "language": "python",
   "name": "Python [Root]"
  },
  "language_info": {
   "codemirror_mode": {
    "name": "ipython",
    "version": 2
   },
   "file_extension": ".py",
   "mimetype": "text/x-python",
   "name": "python",
   "nbconvert_exporter": "python",
   "pygments_lexer": "ipython2",
   "version": "2.7.12"
  }
 },
 "nbformat": 4,
 "nbformat_minor": 0
}
