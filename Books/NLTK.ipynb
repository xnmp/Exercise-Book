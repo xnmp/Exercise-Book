{
 "cells": [
  {
   "cell_type": "code",
   "execution_count": 1,
   "metadata": {
    "collapsed": false
   },
   "outputs": [],
   "source": [
    "import nltk\n",
    "import nltk.stem.porter\n",
    "import nltk.stem.snowball\n",
    "\n",
    "snow = nltk.stem.snowball.SnowballStemmer(\"english\")\n",
    "port = nltk.stem.porter.PorterStemmer()"
   ]
  },
  {
   "cell_type": "code",
   "execution_count": 29,
   "metadata": {
    "collapsed": false
   },
   "outputs": [
    {
     "name": "stdout",
     "output_type": "stream",
     "text": [
      "austen-sense.txt\n",
      "blake-poems.txt\n",
      "chesterton-thursday.txt\n",
      "milton-paradise.txt\n",
      "shakespeare-caesar.txt\n",
      "bryant-stories.txt\n",
      "carroll-alice.txt\n",
      "chesterton-ball.txt\n",
      "austen-emma.txt\n",
      "shakespeare-macbeth.txt\n",
      "bible-kjv.txt\n",
      "burgess-busterbrown.txt\n",
      "whitman-leaves.txt\n",
      "README\n",
      "chesterton-brown.txt\n",
      "austen-persuasion.txt\n",
      "melville-moby_dick.txt\n",
      "shakespeare-hamlet.txt\n",
      "edgeworth-parents.txt\n"
     ]
    },
    {
     "data": {
      "text/plain": [
       "{'README': 0.31422271223814774,\n",
       " 'austen-emma.txt': 0.04173775127430572,\n",
       " 'austen-persuasion.txt': 0.06095742072572736,\n",
       " 'austen-sense.txt': 0.04725996873386292,\n",
       " 'bible-kjv.txt': 0.018153551074553343,\n",
       " 'blake-poems.txt': 0.18618764413156935,\n",
       " 'bryant-stories.txt': 0.07211305082612682,\n",
       " 'burgess-busterbrown.txt': 0.0837557976485816,\n",
       " 'carroll-alice.txt': 0.08523221952024979,\n",
       " 'chesterton-ball.txt': 0.08729154449965536,\n",
       " 'chesterton-brown.txt': 0.09434271530932421,\n",
       " 'chesterton-thursday.txt': 0.09351947902259106,\n",
       " 'edgeworth-parents.txt': 0.0421732268401167,\n",
       " 'melville-moby_dick.txt': 0.07340316641110009,\n",
       " 'milton-paradise.txt': 0.09698147509638592,\n",
       " 'shakespeare-caesar.txt': 0.12265535154855851,\n",
       " 'shakespeare-hamlet.txt': 0.13246710345207288,\n",
       " 'shakespeare-macbeth.txt': 0.16005582819323758,\n",
       " 'whitman-leaves.txt': 0.09208568479470235}"
      ]
     },
     "execution_count": 29,
     "metadata": {},
     "output_type": "execute_result"
    }
   ],
   "source": [
    "import os\n",
    "\n",
    "def addword(word,wordcounts):\n",
    "    if word in wordcounts.keys():\n",
    "        wordcounts[word] += 1\n",
    "    else:\n",
    "        wordcounts[word] = 1\n",
    "        \n",
    "diversity = {}\n",
    "\n",
    "for filename in os.listdir('/home/chong/nltk_data/corpora/gutenberg'):\n",
    "#filename = '/home/chong/nltk_data/corpora/gutenberg/austen-emma.txt'\n",
    "    print filename\n",
    "    wordcounts = {}\n",
    "    stemcount = {}\n",
    "    for word in nltk.tokenize.word_tokenize(nltk.corpus.gutenberg.raw(filename)):\n",
    "        print \"...DONE tokenizing\"\n",
    "        addword(word.upper(), wordcounts)\n",
    "        addword(snow.stem(word.upper()), wordcounts)\n",
    "    diversity[filename] = len(wordcounts)/float(sum(wordcounts.values()))\n",
    "\n",
    "diversity"
   ]
  },
  {
   "cell_type": "code",
   "execution_count": null,
   "metadata": {
    "collapsed": true
   },
   "outputs": [],
   "source": []
  }
 ],
 "metadata": {
  "kernelspec": {
   "display_name": "Python [Root]",
   "language": "python",
   "name": "Python [Root]"
  },
  "language_info": {
   "codemirror_mode": {
    "name": "ipython",
    "version": 2
   },
   "file_extension": ".py",
   "mimetype": "text/x-python",
   "name": "python",
   "nbconvert_exporter": "python",
   "pygments_lexer": "ipython2",
   "version": "2.7.12"
  }
 },
 "nbformat": 4,
 "nbformat_minor": 0
}
