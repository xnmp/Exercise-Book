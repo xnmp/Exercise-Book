{
 "cells": [
  {
   "cell_type": "markdown",
   "metadata": {},
   "source": [
    "# Predicting Monopoly Hotel Prices\n",
    "\n",
    "If you've played the game\n",
    "[Monopoly](https://en.wikipedia.org/wiki/Monopoly_(game)\n",
    "you will know that some properties cost more than others, and \n",
    "the rent charged for a Hotel.\n",
    "\n",
    "There's a relationship between them. Let's find out what it is."
   ]
  },
  {
   "cell_type": "markdown",
   "metadata": {},
   "source": [
    "The set of properties is on an HTML table here:\n",
    "http://www.jdawiseman.com/papers/trivia/monopoly-rents.html"
   ]
  },
  {
   "cell_type": "code",
   "execution_count": 80,
   "metadata": {
    "collapsed": false
   },
   "outputs": [],
   "source": [
    "%matplotlib inline\n",
    "import pandas as pd\n",
    "import matplotlib.pyplot as plt\n",
    "url = 'http://www.jdawiseman.com/papers/trivia/monopoly-rents.html'\n",
    "dfs = pd.read_html(url, header=1, index_col=0)\n",
    "dfs = dfs[0]"
   ]
  },
  {
   "cell_type": "code",
   "execution_count": 13,
   "metadata": {
    "collapsed": false
   },
   "outputs": [],
   "source": [
    "# There should only be one DataFrame.\n",
    "# Make a copy of it and drop all the rows with NaN values (these\n",
    "# are the railway stations and the utilities)"
   ]
  },
  {
   "cell_type": "code",
   "execution_count": 81,
   "metadata": {
    "collapsed": false
   },
   "outputs": [
    {
     "data": {
      "text/html": [
       "<div>\n",
       "<table border=\"1\" class=\"dataframe\">\n",
       "  <thead>\n",
       "    <tr style=\"text-align: right;\">\n",
       "      <th></th>\n",
       "      <th>Cost</th>\n",
       "      <th>M’tg</th>\n",
       "      <th>Site</th>\n",
       "      <th>1 hse</th>\n",
       "      <th>2 hses</th>\n",
       "      <th>3 hses</th>\n",
       "      <th>4 hses</th>\n",
       "      <th>Hotel</th>\n",
       "    </tr>\n",
       "    <tr>\n",
       "      <th>Property</th>\n",
       "      <th></th>\n",
       "      <th></th>\n",
       "      <th></th>\n",
       "      <th></th>\n",
       "      <th></th>\n",
       "      <th></th>\n",
       "      <th></th>\n",
       "      <th></th>\n",
       "    </tr>\n",
       "  </thead>\n",
       "  <tbody>\n",
       "    <tr>\n",
       "      <th>Old Kent Road</th>\n",
       "      <td>60</td>\n",
       "      <td>30</td>\n",
       "      <td>2</td>\n",
       "      <td>10.0</td>\n",
       "      <td>30.0</td>\n",
       "      <td>90.0</td>\n",
       "      <td>160.0</td>\n",
       "      <td>250.0</td>\n",
       "    </tr>\n",
       "    <tr>\n",
       "      <th>Whitechapel Road</th>\n",
       "      <td>60</td>\n",
       "      <td>30</td>\n",
       "      <td>4</td>\n",
       "      <td>20.0</td>\n",
       "      <td>60.0</td>\n",
       "      <td>180.0</td>\n",
       "      <td>320.0</td>\n",
       "      <td>450.0</td>\n",
       "    </tr>\n",
       "    <tr>\n",
       "      <th>The Angel Islington</th>\n",
       "      <td>100</td>\n",
       "      <td>50</td>\n",
       "      <td>6</td>\n",
       "      <td>30.0</td>\n",
       "      <td>90.0</td>\n",
       "      <td>270.0</td>\n",
       "      <td>400.0</td>\n",
       "      <td>550.0</td>\n",
       "    </tr>\n",
       "    <tr>\n",
       "      <th>Euston Road</th>\n",
       "      <td>100</td>\n",
       "      <td>50</td>\n",
       "      <td>6</td>\n",
       "      <td>30.0</td>\n",
       "      <td>90.0</td>\n",
       "      <td>270.0</td>\n",
       "      <td>400.0</td>\n",
       "      <td>550.0</td>\n",
       "    </tr>\n",
       "    <tr>\n",
       "      <th>Pentonville Road</th>\n",
       "      <td>120</td>\n",
       "      <td>60</td>\n",
       "      <td>8</td>\n",
       "      <td>40.0</td>\n",
       "      <td>100.0</td>\n",
       "      <td>300.0</td>\n",
       "      <td>450.0</td>\n",
       "      <td>600.0</td>\n",
       "    </tr>\n",
       "    <tr>\n",
       "      <th>Pall Mall</th>\n",
       "      <td>140</td>\n",
       "      <td>70</td>\n",
       "      <td>10</td>\n",
       "      <td>50.0</td>\n",
       "      <td>150.0</td>\n",
       "      <td>450.0</td>\n",
       "      <td>625.0</td>\n",
       "      <td>750.0</td>\n",
       "    </tr>\n",
       "    <tr>\n",
       "      <th>Whitehall</th>\n",
       "      <td>140</td>\n",
       "      <td>70</td>\n",
       "      <td>10</td>\n",
       "      <td>50.0</td>\n",
       "      <td>150.0</td>\n",
       "      <td>450.0</td>\n",
       "      <td>625.0</td>\n",
       "      <td>750.0</td>\n",
       "    </tr>\n",
       "    <tr>\n",
       "      <th>Northumberland Avenue</th>\n",
       "      <td>160</td>\n",
       "      <td>80</td>\n",
       "      <td>12</td>\n",
       "      <td>60.0</td>\n",
       "      <td>180.0</td>\n",
       "      <td>500.0</td>\n",
       "      <td>700.0</td>\n",
       "      <td>900.0</td>\n",
       "    </tr>\n",
       "    <tr>\n",
       "      <th>Bow Street</th>\n",
       "      <td>180</td>\n",
       "      <td>90</td>\n",
       "      <td>14</td>\n",
       "      <td>70.0</td>\n",
       "      <td>200.0</td>\n",
       "      <td>550.0</td>\n",
       "      <td>750.0</td>\n",
       "      <td>950.0</td>\n",
       "    </tr>\n",
       "    <tr>\n",
       "      <th>Marlborough Street</th>\n",
       "      <td>180</td>\n",
       "      <td>90</td>\n",
       "      <td>14</td>\n",
       "      <td>70.0</td>\n",
       "      <td>200.0</td>\n",
       "      <td>550.0</td>\n",
       "      <td>750.0</td>\n",
       "      <td>950.0</td>\n",
       "    </tr>\n",
       "    <tr>\n",
       "      <th>Vine Street</th>\n",
       "      <td>200</td>\n",
       "      <td>100</td>\n",
       "      <td>16</td>\n",
       "      <td>80.0</td>\n",
       "      <td>220.0</td>\n",
       "      <td>600.0</td>\n",
       "      <td>800.0</td>\n",
       "      <td>1000.0</td>\n",
       "    </tr>\n",
       "    <tr>\n",
       "      <th>The Strand</th>\n",
       "      <td>220</td>\n",
       "      <td>110</td>\n",
       "      <td>18</td>\n",
       "      <td>90.0</td>\n",
       "      <td>250.0</td>\n",
       "      <td>700.0</td>\n",
       "      <td>875.0</td>\n",
       "      <td>1050.0</td>\n",
       "    </tr>\n",
       "    <tr>\n",
       "      <th>Fleet Street</th>\n",
       "      <td>220</td>\n",
       "      <td>110</td>\n",
       "      <td>18</td>\n",
       "      <td>90.0</td>\n",
       "      <td>250.0</td>\n",
       "      <td>700.0</td>\n",
       "      <td>875.0</td>\n",
       "      <td>1050.0</td>\n",
       "    </tr>\n",
       "    <tr>\n",
       "      <th>Trafalgar Square</th>\n",
       "      <td>240</td>\n",
       "      <td>120</td>\n",
       "      <td>20</td>\n",
       "      <td>100.0</td>\n",
       "      <td>300.0</td>\n",
       "      <td>750.0</td>\n",
       "      <td>925.0</td>\n",
       "      <td>1100.0</td>\n",
       "    </tr>\n",
       "    <tr>\n",
       "      <th>Leicester Square</th>\n",
       "      <td>260</td>\n",
       "      <td>130</td>\n",
       "      <td>22</td>\n",
       "      <td>110.0</td>\n",
       "      <td>330.0</td>\n",
       "      <td>800.0</td>\n",
       "      <td>975.0</td>\n",
       "      <td>1150.0</td>\n",
       "    </tr>\n",
       "    <tr>\n",
       "      <th>Coventry Street</th>\n",
       "      <td>260</td>\n",
       "      <td>130</td>\n",
       "      <td>22</td>\n",
       "      <td>110.0</td>\n",
       "      <td>330.0</td>\n",
       "      <td>800.0</td>\n",
       "      <td>975.0</td>\n",
       "      <td>1150.0</td>\n",
       "    </tr>\n",
       "    <tr>\n",
       "      <th>Piccadilly</th>\n",
       "      <td>280</td>\n",
       "      <td>140</td>\n",
       "      <td>22</td>\n",
       "      <td>120.0</td>\n",
       "      <td>360.0</td>\n",
       "      <td>850.0</td>\n",
       "      <td>1025.0</td>\n",
       "      <td>1200.0</td>\n",
       "    </tr>\n",
       "    <tr>\n",
       "      <th>Regent Street</th>\n",
       "      <td>300</td>\n",
       "      <td>150</td>\n",
       "      <td>26</td>\n",
       "      <td>130.0</td>\n",
       "      <td>390.0</td>\n",
       "      <td>900.0</td>\n",
       "      <td>1100.0</td>\n",
       "      <td>1275.0</td>\n",
       "    </tr>\n",
       "    <tr>\n",
       "      <th>Oxford Street</th>\n",
       "      <td>300</td>\n",
       "      <td>150</td>\n",
       "      <td>26</td>\n",
       "      <td>130.0</td>\n",
       "      <td>390.0</td>\n",
       "      <td>900.0</td>\n",
       "      <td>1100.0</td>\n",
       "      <td>1275.0</td>\n",
       "    </tr>\n",
       "    <tr>\n",
       "      <th>Bond Street</th>\n",
       "      <td>320</td>\n",
       "      <td>160</td>\n",
       "      <td>28</td>\n",
       "      <td>150.0</td>\n",
       "      <td>450.0</td>\n",
       "      <td>1000.0</td>\n",
       "      <td>1200.0</td>\n",
       "      <td>1400.0</td>\n",
       "    </tr>\n",
       "    <tr>\n",
       "      <th>Park Lane</th>\n",
       "      <td>350</td>\n",
       "      <td>175</td>\n",
       "      <td>35</td>\n",
       "      <td>175.0</td>\n",
       "      <td>500.0</td>\n",
       "      <td>1100.0</td>\n",
       "      <td>1300.0</td>\n",
       "      <td>1500.0</td>\n",
       "    </tr>\n",
       "    <tr>\n",
       "      <th>Mayfair</th>\n",
       "      <td>400</td>\n",
       "      <td>200</td>\n",
       "      <td>50</td>\n",
       "      <td>200.0</td>\n",
       "      <td>600.0</td>\n",
       "      <td>1400.0</td>\n",
       "      <td>1700.0</td>\n",
       "      <td>2000.0</td>\n",
       "    </tr>\n",
       "  </tbody>\n",
       "</table>\n",
       "</div>"
      ],
      "text/plain": [
       "                       Cost  M’tg Site  1 hse  2 hses  3 hses  4 hses   Hotel\n",
       "Property                                                                     \n",
       "Old Kent Road            60    30    2   10.0    30.0    90.0   160.0   250.0\n",
       "Whitechapel Road         60    30    4   20.0    60.0   180.0   320.0   450.0\n",
       "The Angel Islington     100    50    6   30.0    90.0   270.0   400.0   550.0\n",
       "Euston Road             100    50    6   30.0    90.0   270.0   400.0   550.0\n",
       "Pentonville Road        120    60    8   40.0   100.0   300.0   450.0   600.0\n",
       "Pall Mall               140    70   10   50.0   150.0   450.0   625.0   750.0\n",
       "Whitehall               140    70   10   50.0   150.0   450.0   625.0   750.0\n",
       "Northumberland Avenue   160    80   12   60.0   180.0   500.0   700.0   900.0\n",
       "Bow Street              180    90   14   70.0   200.0   550.0   750.0   950.0\n",
       "Marlborough Street      180    90   14   70.0   200.0   550.0   750.0   950.0\n",
       "Vine Street             200   100   16   80.0   220.0   600.0   800.0  1000.0\n",
       "The Strand              220   110   18   90.0   250.0   700.0   875.0  1050.0\n",
       "Fleet Street            220   110   18   90.0   250.0   700.0   875.0  1050.0\n",
       "Trafalgar Square        240   120   20  100.0   300.0   750.0   925.0  1100.0\n",
       "Leicester Square        260   130   22  110.0   330.0   800.0   975.0  1150.0\n",
       "Coventry Street         260   130   22  110.0   330.0   800.0   975.0  1150.0\n",
       "Piccadilly              280   140   22  120.0   360.0   850.0  1025.0  1200.0\n",
       "Regent Street           300   150   26  130.0   390.0   900.0  1100.0  1275.0\n",
       "Oxford Street           300   150   26  130.0   390.0   900.0  1100.0  1275.0\n",
       "Bond Street             320   160   28  150.0   450.0  1000.0  1200.0  1400.0\n",
       "Park Lane               350   175   35  175.0   500.0  1100.0  1300.0  1500.0\n",
       "Mayfair                 400   200   50  200.0   600.0  1400.0  1700.0  2000.0"
      ]
     },
     "execution_count": 81,
     "metadata": {},
     "output_type": "execute_result"
    }
   ],
   "source": [
    "# The index is the name of the property.\n",
    "dfs.dropna(inplace = True)\n",
    "dfs"
   ]
  },
  {
   "cell_type": "code",
   "execution_count": null,
   "metadata": {
    "collapsed": false
   },
   "outputs": [],
   "source": [
    "# Have a look at the column names\n",
    "#  - \"1 hse\" means the rent when there is one house on the property\n",
    "#  - \"M'tg\" means the price to mortgage the property"
   ]
  },
  {
   "cell_type": "code",
   "execution_count": 82,
   "metadata": {
    "collapsed": false
   },
   "outputs": [
    {
     "data": {
      "text/html": [
       "<div>\n",
       "<table border=\"1\" class=\"dataframe\">\n",
       "  <thead>\n",
       "    <tr style=\"text-align: right;\">\n",
       "      <th></th>\n",
       "      <th>Site</th>\n",
       "    </tr>\n",
       "    <tr>\n",
       "      <th>Property</th>\n",
       "      <th></th>\n",
       "    </tr>\n",
       "  </thead>\n",
       "  <tbody>\n",
       "    <tr>\n",
       "      <th>Old Kent Road</th>\n",
       "      <td>2</td>\n",
       "    </tr>\n",
       "    <tr>\n",
       "      <th>Whitechapel Road</th>\n",
       "      <td>4</td>\n",
       "    </tr>\n",
       "    <tr>\n",
       "      <th>The Angel Islington</th>\n",
       "      <td>6</td>\n",
       "    </tr>\n",
       "    <tr>\n",
       "      <th>Euston Road</th>\n",
       "      <td>6</td>\n",
       "    </tr>\n",
       "    <tr>\n",
       "      <th>Pentonville Road</th>\n",
       "      <td>8</td>\n",
       "    </tr>\n",
       "    <tr>\n",
       "      <th>Pall Mall</th>\n",
       "      <td>10</td>\n",
       "    </tr>\n",
       "    <tr>\n",
       "      <th>Whitehall</th>\n",
       "      <td>10</td>\n",
       "    </tr>\n",
       "    <tr>\n",
       "      <th>Northumberland Avenue</th>\n",
       "      <td>12</td>\n",
       "    </tr>\n",
       "    <tr>\n",
       "      <th>Bow Street</th>\n",
       "      <td>14</td>\n",
       "    </tr>\n",
       "    <tr>\n",
       "      <th>Marlborough Street</th>\n",
       "      <td>14</td>\n",
       "    </tr>\n",
       "    <tr>\n",
       "      <th>Vine Street</th>\n",
       "      <td>16</td>\n",
       "    </tr>\n",
       "    <tr>\n",
       "      <th>The Strand</th>\n",
       "      <td>18</td>\n",
       "    </tr>\n",
       "    <tr>\n",
       "      <th>Fleet Street</th>\n",
       "      <td>18</td>\n",
       "    </tr>\n",
       "    <tr>\n",
       "      <th>Trafalgar Square</th>\n",
       "      <td>20</td>\n",
       "    </tr>\n",
       "    <tr>\n",
       "      <th>Leicester Square</th>\n",
       "      <td>22</td>\n",
       "    </tr>\n",
       "    <tr>\n",
       "      <th>Coventry Street</th>\n",
       "      <td>22</td>\n",
       "    </tr>\n",
       "    <tr>\n",
       "      <th>Piccadilly</th>\n",
       "      <td>22</td>\n",
       "    </tr>\n",
       "    <tr>\n",
       "      <th>Regent Street</th>\n",
       "      <td>26</td>\n",
       "    </tr>\n",
       "    <tr>\n",
       "      <th>Oxford Street</th>\n",
       "      <td>26</td>\n",
       "    </tr>\n",
       "    <tr>\n",
       "      <th>Bond Street</th>\n",
       "      <td>28</td>\n",
       "    </tr>\n",
       "    <tr>\n",
       "      <th>Park Lane</th>\n",
       "      <td>35</td>\n",
       "    </tr>\n",
       "    <tr>\n",
       "      <th>Mayfair</th>\n",
       "      <td>50</td>\n",
       "    </tr>\n",
       "  </tbody>\n",
       "</table>\n",
       "</div>"
      ],
      "text/plain": [
       "                      Site\n",
       "Property                  \n",
       "Old Kent Road            2\n",
       "Whitechapel Road         4\n",
       "The Angel Islington      6\n",
       "Euston Road              6\n",
       "Pentonville Road         8\n",
       "Pall Mall               10\n",
       "Whitehall               10\n",
       "Northumberland Avenue   12\n",
       "Bow Street              14\n",
       "Marlborough Street      14\n",
       "Vine Street             16\n",
       "The Strand              18\n",
       "Fleet Street            18\n",
       "Trafalgar Square        20\n",
       "Leicester Square        22\n",
       "Coventry Street         22\n",
       "Piccadilly              22\n",
       "Regent Street           26\n",
       "Oxford Street           26\n",
       "Bond Street             28\n",
       "Park Lane               35\n",
       "Mayfair                 50"
      ]
     },
     "execution_count": 82,
     "metadata": {},
     "output_type": "execute_result"
    }
   ],
   "source": [
    "# Make a dataframe X which contains the \"Site\" column\n",
    "site = dfs[['Site']]\n",
    "site"
   ]
  },
  {
   "cell_type": "code",
   "execution_count": 84,
   "metadata": {
    "collapsed": false
   },
   "outputs": [
    {
     "data": {
      "text/plain": [
       "Property\n",
       "Old Kent Road             250.0\n",
       "Whitechapel Road          450.0\n",
       "The Angel Islington       550.0\n",
       "Euston Road               550.0\n",
       "Pentonville Road          600.0\n",
       "Pall Mall                 750.0\n",
       "Whitehall                 750.0\n",
       "Northumberland Avenue     900.0\n",
       "Bow Street                950.0\n",
       "Marlborough Street        950.0\n",
       "Vine Street              1000.0\n",
       "The Strand               1050.0\n",
       "Fleet Street             1050.0\n",
       "Trafalgar Square         1100.0\n",
       "Leicester Square         1150.0\n",
       "Coventry Street          1150.0\n",
       "Piccadilly               1200.0\n",
       "Regent Street            1275.0\n",
       "Oxford Street            1275.0\n",
       "Bond Street              1400.0\n",
       "Park Lane                1500.0\n",
       "Mayfair                  2000.0\n",
       "Name: Hotel, dtype: float64"
      ]
     },
     "execution_count": 84,
     "metadata": {},
     "output_type": "execute_result"
    }
   ],
   "source": [
    "# Make a series Y which contains the \"Hotel\" column\n",
    "hotel = dfs['Hotel']\n",
    "hotel"
   ]
  },
  {
   "cell_type": "code",
   "execution_count": 85,
   "metadata": {
    "collapsed": false
   },
   "outputs": [],
   "source": [
    "# Use sklearn.cross_validation.train_test_split to split X and y\n",
    "# into train and test sets\n",
    "import sklearn.cross_validation as cv\n",
    "\n",
    "split = cv.train_test_split\n",
    "(train_X,test_X,train_Y,test_Y) = split(site, hotel)"
   ]
  },
  {
   "cell_type": "code",
   "execution_count": 86,
   "metadata": {
    "collapsed": false
   },
   "outputs": [
    {
     "data": {
      "text/plain": [
       "(6, 16)"
      ]
     },
     "execution_count": 86,
     "metadata": {},
     "output_type": "execute_result"
    }
   ],
   "source": [
    "# Check the index of the X_training data to see what properties were\n",
    "# included. How many are there?\n",
    "len(test_X), len(train_X)"
   ]
  },
  {
   "cell_type": "code",
   "execution_count": 87,
   "metadata": {
    "collapsed": false
   },
   "outputs": [],
   "source": [
    "# Check the index of the X_test data to see what properties were\n",
    "# included. How many are there?"
   ]
  },
  {
   "cell_type": "code",
   "execution_count": 88,
   "metadata": {
    "collapsed": false
   },
   "outputs": [],
   "source": [
    "# Do a train_test_split again, but this time, specify test_size\n",
    "(train_X,test_X,train_Y,test_Y) = split(site, hotel, test_size=0.2)"
   ]
  },
  {
   "cell_type": "code",
   "execution_count": 95,
   "metadata": {
    "collapsed": false
   },
   "outputs": [
    {
     "data": {
      "text/plain": [
       "LinearRegression(copy_X=True, fit_intercept=True, n_jobs=1, normalize=False)"
      ]
     },
     "execution_count": 95,
     "metadata": {},
     "output_type": "execute_result"
    }
   ],
   "source": [
    "# Make a LinearRegression object, and try to fit the X_train data\n",
    "# to Y_train\n",
    "import sklearn.linear_model as lm\n",
    "ols = lm.LinearRegression()\n",
    "ols.fit(train_X,train_Y)"
   ]
  },
  {
   "cell_type": "code",
   "execution_count": 97,
   "metadata": {
    "collapsed": false
   },
   "outputs": [
    {
     "data": {
      "text/plain": [
       "0.96355171522484839"
      ]
     },
     "execution_count": 97,
     "metadata": {},
     "output_type": "execute_result"
    }
   ],
   "source": [
    "# Your LinearRegression object has a .score() method.\n",
    "# Try it on your X_train and Y_train data.\n",
    "# It will be good, but it will be overly confident about its accuracy\n",
    "\n",
    "ols.score(train_X, train_Y)"
   ]
  },
  {
   "cell_type": "code",
   "execution_count": 99,
   "metadata": {
    "collapsed": false
   },
   "outputs": [
    {
     "data": {
      "text/plain": [
       "0.96217298542544116"
      ]
     },
     "execution_count": 99,
     "metadata": {},
     "output_type": "execute_result"
    },
    {
     "data": {
      "image/png": "[encoded data removed]",
      "text/plain": [
       "<matplotlib.figure.Figure at 0x7f36598ab150>"
      ]
     },
     "metadata": {},
     "output_type": "display_data"
    }
   ],
   "source": [
    "# Make predictions for your X_test data\n",
    "plt.scatter(ols.predict(train_X),train_Y)\n",
    "\n",
    "import sklearn.metrics\n",
    "sklearn.metrics.r2_score(ols.predict(train_X),train_Y)"
   ]
  },
  {
   "cell_type": "code",
   "execution_count": 103,
   "metadata": {
    "collapsed": false
   },
   "outputs": [
    {
     "data": {
      "text/plain": [
       "<matplotlib.collections.PathCollection at 0x7f3659615310>"
      ]
     },
     "execution_count": 103,
     "metadata": {},
     "output_type": "execute_result"
    },
    {
     "data": {
      "image/png": "[encoded data removed]",
      "text/plain": [
       "<matplotlib.figure.Figure at 0x7f36596a3810>"
      ]
     },
     "metadata": {},
     "output_type": "display_data"
    }
   ],
   "source": [
    "# Zip these predictions with the correct answers (Y_test) and compare\n",
    "# them visually. You could graph them too if you want to.\n",
    "pd.DataFrame(zip(ols.predict(test_X),test_Y))\n",
    "plt.scatter(ols.predict(test_X),test_Y)"
   ]
  },
  {
   "cell_type": "code",
   "execution_count": 104,
   "metadata": {
    "collapsed": false
   },
   "outputs": [
    {
     "data": {
      "text/plain": [
       "45.49457994579916"
      ]
     },
     "execution_count": 104,
     "metadata": {},
     "output_type": "execute_result"
    }
   ],
   "source": [
    "# sklearn.metrics.median_absolute_error to get a sense of how\n",
    "# far wrong it was\n",
    "sklearn.metrics.median_absolute_error(ols.predict(train_X),train_Y)"
   ]
  },
  {
   "cell_type": "code",
   "execution_count": 115,
   "metadata": {
    "collapsed": false
   },
   "outputs": [
    {
     "name": "stdout",
     "output_type": "stream",
     "text": [
      "dummy:  0.0\n",
      "dummy:  252.941176471\n",
      "tree:  0.99936170013\n",
      "tree:  0.0\n"
     ]
    }
   ],
   "source": [
    "# Try the same with a sklearn.dummy.DummyRegressor() and \n",
    "# sklearn.tree.DecisionTreeRegressor()\n",
    "\n",
    "import sklearn.dummy as dum\n",
    "ols = dum.DummyRegressor()\n",
    "ols.fit(train_X,train_Y)\n",
    "print 'dummy: ', ols.score(train_X, train_Y)\n",
    "print 'dummy: ', sklearn.metrics.median_absolute_error(ols.predict(train_X),train_Y)\n",
    "\n",
    "import sklearn.tree as lm\n",
    "ols = lm.DecisionTreeRegressor()\n",
    "ols.fit(train_X,train_Y)\n",
    "print 'tree: ', ols.score(train_X, train_Y)\n",
    "print 'tree: ', sklearn.metrics.median_absolute_error(ols.predict(train_X),train_Y)\n"
   ]
  },
  {
   "cell_type": "code",
   "execution_count": 129,
   "metadata": {
    "collapsed": false
   },
   "outputs": [
    {
     "data": {
      "text/plain": [
       "5"
      ]
     },
     "execution_count": 129,
     "metadata": {},
     "output_type": "execute_result"
    }
   ],
   "source": [
    "import sklearn.linear_model as lm\n",
    "\n",
    "clf = sklearn.grid_search.GridSearchCV(ols,{'max_depth':range(1,10)})\n",
    "\n",
    "clf.fit(train_X,train_Y)\n",
    "clf.best_estimator_.max_depth\n"
   ]
  },
  {
   "cell_type": "code",
   "execution_count": null,
   "metadata": {
    "collapsed": true
   },
   "outputs": [],
   "source": []
  }
 ],
 "metadata": {
  "kernelspec": {
   "display_name": "Python [Root]",
   "language": "python",
   "name": "Python [Root]"
  },
  "language_info": {
   "codemirror_mode": {
    "name": "ipython",
    "version": 2
   },
   "file_extension": ".py",
   "mimetype": "text/x-python",
   "name": "python",
   "nbconvert_exporter": "python",
   "pygments_lexer": "ipython2",
   "version": "2.7.12"
  }
 },
 "nbformat": 4,
 "nbformat_minor": 0
}
