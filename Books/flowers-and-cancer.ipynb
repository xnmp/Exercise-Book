{
 "cells": [
  {
   "cell_type": "markdown",
   "metadata": {},
   "source": [
    "# Logistic Regression Lab 2\n",
    "\n",
    "Scikit-Learn includes several sample datasets which can demonstrate\n",
    "logistic regression's usefulness.\n",
    "\n",
    "This is a very free-form lab: you won't be walked through it step-by-step,\n",
    "so you might want to keep some other examples open."
   ]
  },
  {
   "cell_type": "code",
   "execution_count": 38,
   "metadata": {
    "collapsed": false
   },
   "outputs": [],
   "source": [
    "import sklearn.datasets\n",
    "import sklearn.linear_model as lm\n",
    "import sklearn.cross_validation\n",
    "import sklearn.neighbors as nb\n",
    "import sklearn.metrics as met\n",
    "import sklearn.grid_search as gs\n",
    "import sklearn.preprocessing as prep\n",
    "import pandas as pd"
   ]
  },
  {
   "cell_type": "markdown",
   "metadata": {},
   "source": [
    "We will look at the Wisconsin breast cancer database, and a classic\n",
    "dataset of [different kinds of iris flowers](https://en.wikipedia.org/wiki/Iris_flower_data_set)."
   ]
  },
  {
   "cell_type": "markdown",
   "metadata": {},
   "source": [
    "# Wisconsin\n",
    "\n",
    "In the Wisconsin breast cancer database, you are trying to predict whether\n",
    "a tumour is malignant or benign. The database consists of the measurements\n",
    "of the tumour (bc.data) and the nature of the tumour (bc.target) -- 1 = malignant, 0 == benign.\n",
    "\n",
    "Try using various combinations of parameters in a logistic regression.\n",
    "\n",
    "Validate your results with a cross cut validation\n",
    "\n"
   ]
  },
  {
   "cell_type": "code",
   "execution_count": 15,
   "metadata": {
    "collapsed": false
   },
   "outputs": [],
   "source": [
    "bc = sklearn.datasets.load_breast_cancer()\n",
    "#print bc.DESCR\n",
    "bcdf = pd.DataFrame(bc.data)\n",
    "#bc.target"
   ]
  },
  {
   "cell_type": "code",
   "execution_count": 39,
   "metadata": {
    "collapsed": false
   },
   "outputs": [
    {
     "name": "stdout",
     "output_type": "stream",
     "text": [
      "[[47  0]\n",
      " [ 6 90]]\n",
      "0.958041958042\n",
      "[[51  0]\n",
      " [ 2 90]]\n",
      "0.986013986014\n",
      "{'n_neighbors': 8, 'weights': 'distance'}\n",
      "[[48  0]\n",
      " [ 5 90]]\n",
      "0.965034965035\n"
     ]
    }
   ],
   "source": [
    "scaler = prep.RobustScaler()\n",
    "bcdf = scaler.fit_transform(bcdf)\n",
    "x_train, x_test, y_train, y_test = sklearn.cross_validation.train_test_split(bcdf,bc.target)\n",
    "\n",
    "knn = nb.KNeighborsClassifier()\n",
    "knn.fit(x_train, y_train)\n",
    "preds = knn.predict(x_test)\n",
    "\n",
    "print met.confusion_matrix(preds, y_test)\n",
    "print knn.score(x_test, y_test)\n",
    "\n",
    "logreg = lm.LogisticRegressionCV()\n",
    "logreg.fit(x_train, y_train)\n",
    "preds = logreg.predict(x_test)\n",
    "\n",
    "print met.confusion_matrix(preds, y_test)\n",
    "print logreg.score(x_test, y_test)\n",
    "\n",
    "knncv = gs.GridSearchCV(nb.KNeighborsClassifier(), \n",
    "                        {'n_neighbors':range(3,12),\n",
    "                         'weights':['uniform','distance']})\n",
    "knncv.fit(x_train, y_train)\n",
    "preds = knncv.predict(x_test)\n",
    "\n",
    "print met.confusion_matrix(preds, y_test)\n",
    "print knncv.score(x_test, y_test)\n",
    "\n",
    "print knncv.best_params_"
   ]
  },
  {
   "cell_type": "markdown",
   "metadata": {},
   "source": [
    "# Irises\n",
    "\n",
    "There are three kinds of flowers in the dataset:\n",
    "\n",
    "- [Setosa](https://en.wikipedia.org/wiki/Iris_setosa) ( = 0)\n",
    "\n",
    "- [Versicolor](https://en.wikipedia.org/wiki/Iris_versicolor) ( = 1)\n",
    "\n",
    "- [Virginica](https://en.wikipedia.org/wiki/Iris_virginica) ( = 2)\n",
    "\n",
    "Try using various combinations of parameters in a logistic regression.\n",
    "\n",
    "Validate your results with a cross cut validation"
   ]
  },
  {
   "cell_type": "code",
   "execution_count": null,
   "metadata": {
    "collapsed": false
   },
   "outputs": [],
   "source": [
    "iris = sklearn.datasets.load_iris()\n",
    "print iris.DESCR"
   ]
  }
 ],
 "metadata": {
  "kernelspec": {
   "display_name": "Python [Root]",
   "language": "python",
   "name": "Python [Root]"
  },
  "language_info": {
   "codemirror_mode": {
    "name": "ipython",
    "version": 2
   },
   "file_extension": ".py",
   "mimetype": "text/x-python",
   "name": "python",
   "nbconvert_exporter": "python",
   "pygments_lexer": "ipython2",
   "version": "2.7.12"
  }
 },
 "nbformat": 4,
 "nbformat_minor": 0
}
