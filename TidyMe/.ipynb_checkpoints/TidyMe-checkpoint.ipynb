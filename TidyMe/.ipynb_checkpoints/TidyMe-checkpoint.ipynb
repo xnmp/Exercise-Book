{
 "cells": [
  {
   "cell_type": "markdown",
   "metadata": {},
   "source": [
    "# Create Master Tables"
   ]
  },
  {
   "cell_type": "code",
   "execution_count": 5,
   "metadata": {
    "collapsed": false
   },
   "outputs": [],
   "source": [
    "import pandas as pd\n",
    "from sqlalchemy import create_engine\n",
    "#Create your unique engine\n",
    "engine = create_engine('postgresql://postgres:@localhost/tidyme')"
   ]
  },
  {
   "cell_type": "code",
   "execution_count": 6,
   "metadata": {
    "collapsed": false
   },
   "outputs": [],
   "source": [
    "users = pd.read_sql_table('users', con=engine)\n",
    "customers = users[users.role == 0]\n",
    "cleaners = users[users.role == 1]\n",
    "leads = users[users.role == 3]\n",
    "applicants = users[users.role == 4]"
   ]
  },
  {
   "cell_type": "code",
   "execution_count": 7,
   "metadata": {
    "collapsed": false
   },
   "outputs": [
    {
     "name": "stderr",
     "output_type": "stream",
     "text": [
      "/home/chong/anaconda2/lib/python2.7/site-packages/sqlalchemy/dialects/postgresql/base.py:2773: SAWarning: Predicate of partial index index_occurrences_on_late_arrival_predicted ignored during reflection\n",
      "  % idx_name)\n"
     ]
    }
   ],
   "source": [
    "jobs = pd.read_sql_table('jobs', con=engine)\n",
    "occurrences = pd.read_sql_table('occurrences', con=engine)\n",
    "zones = pd.read_sql_table('zones', con=engine)\n",
    "cities = pd.read_sql_table('cities', con=engine)\n",
    "availabilities = pd.read_sql_table('availabilities', con=engine)"
   ]
  },
  {
   "cell_type": "code",
   "execution_count": 38,
   "metadata": {
    "collapsed": false
   },
   "outputs": [],
   "source": [
    "occ_1 = occurrences[[\n",
    "'id','job_id',# 'cleaner_id',\n",
    "# times\n",
    "'booking_time','end_time','canceled_at',\n",
    "# important\n",
    "'extras','price','contacted_cleaners',\n",
    "# feedback\n",
    "'feedback_rating','feedback_text','feedback_reason','hidden_feedback','amended_rating','feedback_reported',\n",
    "# late, incomplete\n",
    "'late_arrival_predicted','incomplete','completion_reported','refund',\n",
    "]]\n",
    "\n",
    "jobs_1 = jobs[[\n",
    "'id','cleaner_id','customer_id',\n",
    "# important\n",
    "'first_booking_time','canceled_at','paused_at','paused_until',\n",
    "'cancellation_reason',\n",
    "'bedrooms','bathrooms','frequency',\n",
    "'cleaning_essential',\n",
    "'price_scheme','extras',\n",
    "'ideal_cleaner_id',\n",
    "#  location  \n",
    "'address','city','postcode_id','zone_id','postcode','latitude','longitude',\n",
    "# misc\n",
    "'custom_price','custom_duration','number_of_cleaners',\n",
    "'through_admin','referrer_id','coupon_code','coupon_value'\n",
    "]]\n",
    "\n",
    "cleaners_1 = cleaners[[\n",
    "'id','deleted_at',              \n",
    "# usage\n",
    "'target_hours','rating_all_time','rating_this_week','sign_in_count',        \n",
    "# location\n",
    "'address','city','postcode','zones',\n",
    "'latitude','longitude',\n",
    "# misc\n",
    "'changed_availabilities',\n",
    "'pair_clean',\n",
    "'language','birthday','student','gender' \n",
    "]]\n",
    "\n",
    "cust_1 = customers[[\n",
    "'id', 'deleted_at',\n",
    "# misc\n",
    "'sign_in_count','preferred_gender','disliked_cleaners',\n",
    "]]\n",
    "\n",
    "avail_1 = availabilities[[\n",
    "'id','cleaner_id',\n",
    "'start_time','end_time','availability_type','vacant_frequency',\n",
    "'deleted_at'\n",
    "]]"
   ]
  },
  {
   "cell_type": "code",
   "execution_count": null,
   "metadata": {
    "collapsed": true
   },
   "outputs": [],
   "source": []
  }
 ],
 "metadata": {
  "anaconda-cloud": {},
  "kernelspec": {
   "display_name": "Python [conda root]",
   "language": "python",
   "name": "conda-root-py"
  },
  "language_info": {
   "codemirror_mode": {
    "name": "ipython",
    "version": 2
   },
   "file_extension": ".py",
   "mimetype": "text/x-python",
   "name": "python",
   "nbconvert_exporter": "python",
   "pygments_lexer": "ipython2",
   "version": "2.7.12"
  }
 },
 "nbformat": 4,
 "nbformat_minor": 0
}
