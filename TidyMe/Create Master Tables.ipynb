{
 "cells": [
  {
   "cell_type": "markdown",
   "metadata": {},
   "source": [
    "# Create Master Tables"
   ]
  },
  {
   "cell_type": "code",
   "execution_count": 67,
   "metadata": {
    "collapsed": false
   },
   "outputs": [],
   "source": [
    "import pandas as pd\n",
    "from sqlalchemy import create_engine"
   ]
  },
  {
   "cell_type": "code",
   "execution_count": 68,
   "metadata": {
    "collapsed": false
   },
   "outputs": [],
   "source": [
    "#Create your unique engine\n",
    "engine = create_engine('postgresql://allenbyron:@localhost/tidyme')"
   ]
  },
  {
   "cell_type": "code",
   "execution_count": 69,
   "metadata": {
    "collapsed": false
   },
   "outputs": [],
   "source": [
    "users = pd.read_sql_table('users', con=engine)\n",
    "customers = users[users.role == 0]\n",
    "cleaners = users[users.role == 1]\n",
    "leads = users[users.role == 3]\n",
    "applicants = users[users.role == 4]"
   ]
  },
  {
   "cell_type": "code",
   "execution_count": 70,
   "metadata": {
    "collapsed": false
   },
   "outputs": [],
   "source": [
    "jobs = pd.read_sql_table('jobs', con=engine)\n",
    "occurrences = pd.read_sql_table('occurrences', con=engine)\n",
    "zones = pd.read_sql_table('zones', con=engine)\n",
    "cities = pd.read_sql_table('cities', con=engine)\n",
    "availabilities = pd.read_sql_table('availabilities', con=engine)"
   ]
  },
  {
   "cell_type": "markdown",
   "metadata": {},
   "source": [
    "##### Create Master Customer Table"
   ]
  },
  {
   "cell_type": "code",
   "execution_count": 71,
   "metadata": {
    "collapsed": true
   },
   "outputs": [],
   "source": [
    "users_jobs = customers.merge(jobs, how='left', left_on='id', right_on='customer_id')\n",
    "users_jobs_occ = users_jobs.merge(occurrences, how='left', left_on='id_y', right_on='job_id')\n",
    "users_jobs_occ_zones = users_jobs_occ.merge(zones, how='left', left_on='zone_id', right_on='id')\n",
    "users_jobs_occ_zones_cities = users_jobs_occ_zones.merge(cities, how='left', left_on='city_id', right_on='id')\n",
    "customer = users_jobs_occ_zones_cities"
   ]
  },
  {
   "cell_type": "code",
   "execution_count": 77,
   "metadata": {
    "collapsed": false
   },
   "outputs": [
    {
     "data": {
      "text/plain": [
       "200"
      ]
     },
     "execution_count": 77,
     "metadata": {},
     "output_type": "execute_result"
    }
   ],
   "source": [
    "len(customer.columns)"
   ]
  },
  {
   "cell_type": "markdown",
   "metadata": {},
   "source": [
    "##### Create Master Cleaner Table"
   ]
  },
  {
   "cell_type": "code",
   "execution_count": 74,
   "metadata": {
    "collapsed": false
   },
   "outputs": [],
   "source": [
    "cleaner_jobs = cleaners.merge(jobs, how='left', left_on='id', right_on='customer_id')\n",
    "cleaner_jobs_occ = cleaner_jobs.merge(occurrences, how='left', left_on='id_y', right_on='job_id')\n",
    "cleaner_jobs_occ_zones = cleaner_jobs_occ.merge(zones, how='left', left_on='zone_id', right_on='id')\n",
    "cleaner_jobs_occ_zones_cities = cleaner_jobs_occ_zones.merge(cities, how='left', left_on='city_id', right_on='id')\n",
    "cleaner_jobs_occ_zones_cities_avail = cleaner_jobs_occ_zones_cities.merge(availabilities, how='left', on='cleaner_id')\n",
    "cleaner = cleaner_jobs_occ_zones_cities_avail"
   ]
  },
  {
   "cell_type": "code",
   "execution_count": 78,
   "metadata": {
    "collapsed": false
   },
   "outputs": [
    {
     "data": {
      "text/plain": [
       "209"
      ]
     },
     "execution_count": 78,
     "metadata": {},
     "output_type": "execute_result"
    }
   ],
   "source": [
    "len(cleaner.columns)"
   ]
  },
  {
   "cell_type": "code",
   "execution_count": 80,
   "metadata": {
    "collapsed": false,
    "scrolled": true
   },
   "outputs": [
    {
     "data": {
      "text/plain": [
       "[u'id_x',\n",
       " u'email_x',\n",
       " 'encrypted_password',\n",
       " 'reset_password_token',\n",
       " 'reset_password_sent_at',\n",
       " 'remember_created_at',\n",
       " 'sign_in_count',\n",
       " 'current_sign_in_at',\n",
       " 'last_sign_in_at',\n",
       " 'current_sign_in_ip',\n",
       " 'last_sign_in_ip',\n",
       " u'created_at_x',\n",
       " u'updated_at_x',\n",
       " 'role',\n",
       " u'address_x',\n",
       " u'city_x',\n",
       " u'postcode_x',\n",
       " 'mobile',\n",
       " 'invitation_token',\n",
       " 'invitation_created_at',\n",
       " 'invitation_sent_at',\n",
       " 'invitation_accepted_at',\n",
       " 'invitation_limit',\n",
       " 'invited_by_id',\n",
       " 'invited_by_type',\n",
       " 'invitations_count',\n",
       " 'abn',\n",
       " 'start_date',\n",
       " 'refresh_token',\n",
       " u'stripe_customer_id_x',\n",
       " u'first_name_x',\n",
       " u'last_name_x',\n",
       " u'deleted_at_x',\n",
       " 'customer_invitation_sent',\n",
       " 'referral_count',\n",
       " 'referral_credit_sum',\n",
       " 'referral_credit_balance',\n",
       " 'bank_bsb_number',\n",
       " 'bank_account_number',\n",
       " u'latitude_x',\n",
       " u'longitude_x',\n",
       " 'customer_creation_reported',\n",
       " 'edm_opt_in',\n",
       " 'churn_predicted_by_system',\n",
       " 'upgrade_predicted',\n",
       " 'changed_availabilities',\n",
       " 'no_promotional_sms',\n",
       " 'rating_all_time',\n",
       " 'rating_this_week',\n",
       " 'occurrences_all_time',\n",
       " 'occurrences_for_churned_jobs_all_time',\n",
       " 'include_in_analytics_udpates',\n",
       " 'birthday',\n",
       " 'cleaner_profile_url_sms',\n",
       " 'happiness_status',\n",
       " 'utm_source_first_touch',\n",
       " 'utm_source_last_touch',\n",
       " 'utm_medium_first_touch',\n",
       " 'utm_medium_last_touch',\n",
       " 'utm_campaign_first_touch',\n",
       " 'utm_campaign_last_touch',\n",
       " 'left_key',\n",
       " 'generated_coupon',\n",
       " 'canceled_occurrences',\n",
       " 'crew_refer_crew_url',\n",
       " 'supervisor_id',\n",
       " 'mixpanel_alias_created',\n",
       " 'subscription',\n",
       " 'student',\n",
       " 'accepted_latest_terms',\n",
       " 'photo_file_name',\n",
       " 'photo_content_type',\n",
       " 'photo_file_size',\n",
       " 'photo_updated_at',\n",
       " 'target_hours',\n",
       " 'hours_this_week',\n",
       " 'utilization_this_week',\n",
       " 'hours_previous_week',\n",
       " 'utilization_previous_week',\n",
       " 'hours_next_week',\n",
       " 'utilization_next_week',\n",
       " 'zones',\n",
       " 'preferred_gender',\n",
       " 'disliked_cleaners',\n",
       " 'gender',\n",
       " 'visa_file_name',\n",
       " 'visa_content_type',\n",
       " 'visa_file_size',\n",
       " 'visa_updated_at',\n",
       " 'identification_file_name',\n",
       " 'identification_content_type',\n",
       " 'identification_file_size',\n",
       " 'identification_updated_at',\n",
       " 'background_check_file_name',\n",
       " 'background_check_content_type',\n",
       " 'background_check_file_size',\n",
       " 'background_check_updated_at',\n",
       " 'pair_clean',\n",
       " 'insurance_covered_by_tidyme',\n",
       " 'insurance_file_name',\n",
       " 'insurance_content_type',\n",
       " 'insurance_file_size',\n",
       " 'insurance_updated_at',\n",
       " 'residency_visa_status',\n",
       " 'residency_visa_other',\n",
       " 'visa_expires',\n",
       " 'applicant_confirmed_at',\n",
       " 'language',\n",
       " u'id_y',\n",
       " 'bedrooms',\n",
       " 'bathrooms',\n",
       " 'frequency',\n",
       " 'phone',\n",
       " 'booking_name',\n",
       " u'address_y',\n",
       " u'city_y',\n",
       " u'postcode_y',\n",
       " u'created_at_y',\n",
       " u'updated_at_y',\n",
       " 'cleaner_id',\n",
       " u'canceled_at_x',\n",
       " u'email_y',\n",
       " 'cleaning_essential',\n",
       " 'booking_status',\n",
       " 'first_booking_time',\n",
       " 'coupon_code',\n",
       " u'notes_x',\n",
       " u'stripe_customer_id_y',\n",
       " 'customer_id',\n",
       " u'first_name_y',\n",
       " u'last_name_y',\n",
       " 'price_scheme',\n",
       " u'extras_x',\n",
       " 'cancellation_reason',\n",
       " 'paused_at',\n",
       " 'paused_until',\n",
       " 'referrer_id',\n",
       " u'latitude_y',\n",
       " u'longitude_y',\n",
       " 'coupon_value',\n",
       " u'key_location_x',\n",
       " 'creation_reported',\n",
       " 'saved_quote',\n",
       " 'custom_price',\n",
       " u'custom_duration_x',\n",
       " 'used_recommended_booking_time',\n",
       " 'through_admin',\n",
       " 'ideal_cleaner_id',\n",
       " u'key_notes_x',\n",
       " u'number_of_cleaners_x',\n",
       " 'availability',\n",
       " 'assignment_preferences',\n",
       " 'postcode_id',\n",
       " u'zone_id_x',\n",
       " u'id_x',\n",
       " 'job_id',\n",
       " 'booking_time',\n",
       " u'end_time_x',\n",
       " u'canceled_at_y',\n",
       " u'notes_y',\n",
       " u'created_at_x',\n",
       " u'updated_at_x',\n",
       " 'admin_notes',\n",
       " 'price',\n",
       " 'stripe_charge_id',\n",
       " 'stripe_receipt_number',\n",
       " 'completion_reported',\n",
       " 'feedback_rating',\n",
       " 'feedback_text',\n",
       " 'checked_in_at',\n",
       " 'checked_out_at',\n",
       " 'incomplete',\n",
       " u'extras_y',\n",
       " u'custom_duration_y',\n",
       " u'key_location_y',\n",
       " 'refund',\n",
       " 'hidden_feedback',\n",
       " 'contacted_cleaners',\n",
       " 'amended_rating',\n",
       " 'feedback_reported',\n",
       " 'late_arrival_predicted',\n",
       " 'feedback_reason',\n",
       " 'bundle_first_id',\n",
       " 'bundle_first_booking_time',\n",
       " u'number_of_cleaners_y',\n",
       " 'cleaners_count',\n",
       " 'custom_cleaner_durations',\n",
       " u'key_notes_y',\n",
       " 'late_arrival_notification',\n",
       " 'applicant_id',\n",
       " 'cleaner_notes',\n",
       " u'id_y',\n",
       " 'number',\n",
       " 'city_id',\n",
       " u'created_at_y',\n",
       " u'updated_at_y',\n",
       " u'id_x',\n",
       " 'name',\n",
       " u'created_at_x',\n",
       " u'updated_at_x',\n",
       " u'id_y',\n",
       " 'start_time',\n",
       " u'end_time_y',\n",
       " 'availability_type',\n",
       " u'created_at_y',\n",
       " u'updated_at_y',\n",
       " u'deleted_at_y',\n",
       " 'vacant_frequency',\n",
       " u'zone_id_y']"
      ]
     },
     "execution_count": 80,
     "metadata": {},
     "output_type": "execute_result"
    }
   ],
   "source": [
    "list(cleaner.columns)"
   ]
  },
  {
   "cell_type": "code",
   "execution_count": null,
   "metadata": {
    "collapsed": true
   },
   "outputs": [],
   "source": []
  }
 ],
 "metadata": {
  "kernelspec": {
   "display_name": "Python 2",
   "language": "python",
   "name": "python2"
  },
  "language_info": {
   "codemirror_mode": {
    "name": "ipython",
    "version": 2
   },
   "file_extension": ".py",
   "mimetype": "text/x-python",
   "name": "python",
   "nbconvert_exporter": "python",
   "pygments_lexer": "ipython2",
   "version": "2.7.12"
  }
 },
 "nbformat": 4,
 "nbformat_minor": 0
}
