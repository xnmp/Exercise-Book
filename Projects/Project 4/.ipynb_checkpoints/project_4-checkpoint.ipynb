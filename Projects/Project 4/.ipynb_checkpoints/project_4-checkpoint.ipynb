{
 "cells": [
  {
   "cell_type": "markdown",
   "metadata": {},
   "source": [
    "# Setup"
   ]
  },
  {
   "cell_type": "code",
   "execution_count": 1,
   "metadata": {
    "collapsed": false
   },
   "outputs": [],
   "source": [
    "# load the library\n",
    "from bs4 import BeautifulSoup\n",
    "import urllib2, requests\n",
    "import pandas as pd, numpy as np\n",
    "import nltk.stem.snowball\n",
    "import string\n",
    "import sys\n",
    "reload(sys)\n",
    "sys.setdefaultencoding('utf8')\n",
    "\n",
    "# to remove column limit (default is 50. Otherwise, we'll lose some info)\n",
    "pd.set_option('max_colwidth',500)"
   ]
  },
  {
   "cell_type": "markdown",
   "metadata": {},
   "source": [
    "# Scraping"
   ]
  },
  {
   "cell_type": "code",
   "execution_count": 36,
   "metadata": {
    "collapsed": false
   },
   "outputs": [],
   "source": [
    "def getjobs(page, salary, searchloc = None, \n",
    "            explvl = None,\n",
    "            base_url = 'www.indeed.com'):\n",
    "\n",
    "    global df\n",
    "    global joblinks\n",
    "    global joblinks2\n",
    "    \n",
    "    if searchloc == None:\n",
    "        locurl = ''\n",
    "    else:\n",
    "        locurl = '&l=' + searchloc\n",
    "    if explvl == None:\n",
    "        expurl = ''\n",
    "    else: \n",
    "        expurl = '&explvl=' + explvl\n",
    "    base_url = 'http://' + base_url + '/jobs?q=data+scientist+'\n",
    "    starturl = '&jt=fulltime&sort=date&start=' + str(page)\n",
    "    url = base_url + dollar(salary) + locurl + expurl + starturl # get full url \n",
    "    #print url\n",
    "    \n",
    "    contents = BeautifulSoup(urllib2.urlopen(url), \"lxml\")\n",
    "    contentsElements = contents.find_all('div', attrs={'class' : '  row  result'}) \n",
    "    contentsElements.extend(contents.find_all('div', \n",
    "                                              attrs={'class' : 'lastRow  row  result'}))\n",
    "    \n",
    "    if contentsElements == []:\n",
    "        return False\n",
    "    \n",
    "    seen = 0\n",
    "    \n",
    "    # extract job information\n",
    "    for elem in contentsElements:\n",
    "        #variables\n",
    "        location = elem.find('span', attrs={'itemprop':'addressLocality'}).getText()\n",
    "        link = \"http://www.indeed.com\" + elem.find('a').get('href')\n",
    "        #if every job on the page has been seen before at that salary, \n",
    "        #quit and go to the next salary\n",
    "        if (salary, location, explvl, link) in joblinks2:\n",
    "            seen += 1\n",
    "            #print seen\n",
    "            if seen >= len(contentsElements):\n",
    "                print url #this should be the last page\n",
    "                return False\n",
    "        else:\n",
    "            joblinks2.add((salary, location, explvl, link))\n",
    "        if link in joblinks:\n",
    "            continue\n",
    "        \n",
    "        title = elem.find('a', attrs={'class':'turnstileLink'}).attrs['title']\n",
    "        descr = elem.find('span', attrs={'class':'summary', \n",
    "                                         'itemprop':'description'}).getText().strip()\n",
    "        \n",
    "        # bunch of helper variables\n",
    "        real_salary2 = ''\n",
    "        real_salary3 = ''\n",
    "        uprange = False\n",
    "        post_time = elem.find('span', attrs={'class':'date'}).getText()\n",
    "        \n",
    "        #salary\n",
    "        try:\n",
    "            real_salary = elem.find('nobr').getText().replace('a year','')\n",
    "            for char in real_salary:\n",
    "                if char.isdigit() and not uprange:\n",
    "                    real_salary2 += char\n",
    "                elif char.isdigit() and uprange:\n",
    "                    real_salary3 += char\n",
    "                elif char == '-':\n",
    "                    uprange = True\n",
    "                elif char.isalpha():\n",
    "                    break\n",
    "        except AttributeError:\n",
    "            real_salary = np.nan\n",
    "            \n",
    "        #company\n",
    "        try:\n",
    "            company = elem.find('span', \n",
    "                                attrs={'itemprop':'name'}).getText().strip()\n",
    "        except AttributeError:\n",
    "            company = '-'\n",
    "        \n",
    "        aus = False\n",
    "        if base_url = 'au.indeed.com':\n",
    "            salary *= 0.76\n",
    "            real_salary2 *= 0.76\n",
    "            real_salary3 *= 0.76\n",
    "            aus = True\n",
    "        \n",
    "        # add a record of job info to our data frame\n",
    "        joblinks.add(link)\n",
    "        df = df.append({'company': company, \n",
    "                        'title': title, \n",
    "                        'link': link, \n",
    "                        'post_time': post_time,\n",
    "                        'description': descr,\n",
    "                        'location': location,\n",
    "                        'est_salary': salary,\n",
    "                        'real_salary_lower': lint(real_salary2),\n",
    "                        'real_salary_upper': lint(real_salary3),\n",
    "                        'exp_lvl': explvl\n",
    "                       }, ignore_index=True)\n",
    "    \n",
    "    #intermediate saves\n",
    "    #if page % 50 == 0: \n",
    "    #    df.to_csv('./indeed_companies_loc.csv', encoding='utf-8')\n",
    "\n",
    "def lint(s):\n",
    "    if s == '':\n",
    "        return np.nan\n",
    "    else:\n",
    "        return int(s)\n",
    "            \n",
    "def dollar(num):\n",
    "    thou = num/1000\n",
    "    if thou > 0:\n",
    "        return '%24' + str(thou) + '%2C' + str(num)[-3:]\n",
    "    else:\n",
    "        return '%24' + str(num)[-3:]\n",
    "    \n",
    "def goscrape(loc_search = False, \n",
    "             exp_search = False, \n",
    "             reset = True,\n",
    "             base_url = 'www.indeed.com',\n",
    "             salary_range = (0,200000), \n",
    "             outfile = 'indeed_companies'):\n",
    "    \n",
    "    #reset variables before scraping\n",
    "    global df\n",
    "    global joblinks\n",
    "    global joblinks2\n",
    "    if reset:\n",
    "        df = pd.DataFrame()\n",
    "        joblinks = set()\n",
    "        joblinks2 = set()\n",
    "    \n",
    "    #SCRAPE\n",
    "    for num in range(salary_range[1], salary_range[0], -10000):\n",
    "        explvls, locs = [None], [None]\n",
    "        if exp_search:\n",
    "            explvls = map(lambda x: x + '_level', ['mid', 'entry', 'senior'])\n",
    "        if loc_search:\n",
    "            locs = locations\n",
    "        \n",
    "        #display progress\n",
    "        print num, len(joblinks), len(joblinks2)\n",
    "        \n",
    "        for exp in explvls:\n",
    "            for loc in locs:\n",
    "                for page in range(0,9999,10):\n",
    "                    #print page # prints too much if loc_search = True\n",
    "                    if not getjobs(page, num, searchloc = loc, \n",
    "                                   base_url = base_url, explvl = exp):\n",
    "                        break\n",
    "                    \n",
    "    df.to_csv('./' + outfile + '.csv', encoding='utf-8')"
   ]
  },
  {
   "cell_type": "markdown",
   "metadata": {
    "collapsed": true
   },
   "source": [
    "# Scraping by Location and Experience Level"
   ]
  },
  {
   "cell_type": "code",
   "execution_count": null,
   "metadata": {
    "collapsed": true
   },
   "outputs": [],
   "source": [
    "# SCRAPE WITHOUT LOCATION\n",
    "goscrape(outfile='indeed_companies.csv')\n",
    "df"
   ]
  },
  {
   "cell_type": "code",
   "execution_count": 3,
   "metadata": {
    "collapsed": false
   },
   "outputs": [],
   "source": [
    "def trim_location(s, spacechar = '+'):\n",
    "    ss = ''\n",
    "    i = 0\n",
    "    for i, char in enumerate(s):\n",
    "        if not (char.isalpha() or char == ' ' or char == ','):\n",
    "            return\n",
    "        if char == ' ':\n",
    "            ss += spacechar\n",
    "        else:\n",
    "            ss += char\n",
    "        if char == ',':\n",
    "            ss += spacechar + s[i+2:i+4]\n",
    "            break\n",
    "    return ss"
   ]
  },
  {
   "cell_type": "code",
   "execution_count": null,
   "metadata": {
    "collapsed": false,
    "scrolled": true
   },
   "outputs": [],
   "source": [
    "#SCRAPE BY LOCATION (takes forever - don't run)\n",
    "#down to 150,000 there are less than 100 pages\n",
    "goscrape(loc_search=True, \n",
    "         salary_range=(150000,200000),\n",
    "         outfile='indeed_companies_150+')\n",
    "\n",
    "locations = pd.Series(map(trim_location, \n",
    "                          df['location'].unique())).unique\n",
    "\n",
    "goscrape(loc_search=True, \n",
    "         salary_range=(0,140000),\n",
    "         reset=False,\n",
    "         outfile='indeed_companies_loc')"
   ]
  },
  {
   "cell_type": "code",
   "execution_count": 33,
   "metadata": {
    "collapsed": true
   },
   "outputs": [
    {
     "name": "stdout",
     "output_type": "stream",
     "text": [
      "200000 0 0\n",
      "http://www.indeed.com/jobs?q=data+scientist+%24200%2C000&explvl=mid_level&jt=fulltime&sort=date&start=10\n",
      "http://www.indeed.com/jobs?q=data+scientist+%24200%2C000&explvl=entry_level&jt=fulltime&sort=date&start=10\n",
      "http://www.indeed.com/jobs?q=data+scientist+%24200%2C000&explvl=senior_level&jt=fulltime&sort=date&start=10\n",
      "190000 19 19\n",
      "http://www.indeed.com/jobs?q=data+scientist+%24190%2C000&explvl=mid_level&jt=fulltime&sort=date&start=20\n",
      "http://www.indeed.com/jobs?q=data+scientist+%24190%2C000&explvl=entry_level&jt=fulltime&sort=date&start=20\n",
      "http://www.indeed.com/jobs?q=data+scientist+%24190%2C000&explvl=senior_level&jt=fulltime&sort=date&start=10\n",
      "180000 26 45\n",
      "http://www.indeed.com/jobs?q=data+scientist+%24180%2C000&explvl=mid_level&jt=fulltime&sort=date&start=20\n",
      "http://www.indeed.com/jobs?q=data+scientist+%24180%2C000&explvl=entry_level&jt=fulltime&sort=date&start=20\n",
      "http://www.indeed.com/jobs?q=data+scientist+%24180%2C000&explvl=senior_level&jt=fulltime&sort=date&start=10\n",
      "170000 43 87\n",
      "http://www.indeed.com/jobs?q=data+scientist+%24170%2C000&explvl=mid_level&jt=fulltime&sort=date&start=30\n",
      "http://www.indeed.com/jobs?q=data+scientist+%24170%2C000&explvl=entry_level&jt=fulltime&sort=date&start=20\n",
      "http://www.indeed.com/jobs?q=data+scientist+%24170%2C000&explvl=senior_level&jt=fulltime&sort=date&start=20\n",
      "160000 63 149\n",
      "http://www.indeed.com/jobs?q=data+scientist+%24160%2C000&explvl=mid_level&jt=fulltime&sort=date&start=50\n",
      "http://www.indeed.com/jobs?q=data+scientist+%24160%2C000&explvl=entry_level&jt=fulltime&sort=date&start=30\n",
      "http://www.indeed.com/jobs?q=data+scientist+%24160%2C000&explvl=senior_level&jt=fulltime&sort=date&start=40\n",
      "150000 109 254\n",
      "http://www.indeed.com/jobs?q=data+scientist+%24150%2C000&explvl=mid_level&jt=fulltime&sort=date&start=110\n",
      "http://www.indeed.com/jobs?q=data+scientist+%24150%2C000&explvl=entry_level&jt=fulltime&sort=date&start=60\n",
      "http://www.indeed.com/jobs?q=data+scientist+%24150%2C000&explvl=senior_level&jt=fulltime&sort=date&start=90\n",
      "140000 254 501\n",
      "http://www.indeed.com/jobs?q=data+scientist+%24140%2C000&explvl=mid_level&jt=fulltime&sort=date&start=260\n",
      "http://www.indeed.com/jobs?q=data+scientist+%24140%2C000&explvl=entry_level&jt=fulltime&sort=date&start=120\n",
      "http://www.indeed.com/jobs?q=data+scientist+%24140%2C000&explvl=senior_level&jt=fulltime&sort=date&start=250\n",
      "130000 622 1102\n",
      "http://www.indeed.com/jobs?q=data+scientist+%24130%2C000&explvl=mid_level&jt=fulltime&sort=date&start=570\n",
      "http://www.indeed.com/jobs?q=data+scientist+%24130%2C000&explvl=entry_level&jt=fulltime&sort=date&start=210\n",
      "http://www.indeed.com/jobs?q=data+scientist+%24130%2C000&explvl=senior_level&jt=fulltime&sort=date&start=500\n",
      "120000 1263 2285\n",
      "http://www.indeed.com/jobs?q=data+scientist+%24120%2C000&explvl=mid_level&jt=fulltime&sort=date&start=1010\n",
      "http://www.indeed.com/jobs?q=data+scientist+%24120%2C000&explvl=entry_level&jt=fulltime&sort=date&start=380\n",
      "http://www.indeed.com/jobs?q=data+scientist+%24120%2C000&explvl=senior_level&jt=fulltime&sort=date&start=790\n",
      "110000 2145 4215\n",
      "http://www.indeed.com/jobs?q=data+scientist+%24110%2C000&explvl=mid_level&jt=fulltime&sort=date&start=1010\n",
      "http://www.indeed.com/jobs?q=data+scientist+%24110%2C000&explvl=entry_level&jt=fulltime&sort=date&start=590\n",
      "http://www.indeed.com/jobs?q=data+scientist+%24110%2C000&explvl=senior_level&jt=fulltime&sort=date&start=1020\n",
      "100000 3014 6496\n",
      "http://www.indeed.com/jobs?q=data+scientist+%24100%2C000&explvl=mid_level&jt=fulltime&sort=date&start=1020\n",
      "http://www.indeed.com/jobs?q=data+scientist+%24100%2C000&explvl=entry_level&jt=fulltime&sort=date&start=860\n",
      "http://www.indeed.com/jobs?q=data+scientist+%24100%2C000&explvl=senior_level&jt=fulltime&sort=date&start=520\n",
      "90000 3734 8589\n",
      "http://www.indeed.com/jobs?q=data+scientist+%2490%2C000&explvl=mid_level&jt=fulltime&sort=date&start=240\n",
      "http://www.indeed.com/jobs?q=data+scientist+%2490%2C000&explvl=entry_level&jt=fulltime&sort=date&start=1010\n",
      "http://www.indeed.com/jobs?q=data+scientist+%2490%2C000&explvl=senior_level&jt=fulltime&sort=date&start=1010\n",
      "80000 4305 10518\n",
      "http://www.indeed.com/jobs?q=data+scientist+%2480%2C000&explvl=mid_level&jt=fulltime&sort=date&start=1010\n",
      "http://www.indeed.com/jobs?q=data+scientist+%2480%2C000&explvl=entry_level&jt=fulltime&sort=date&start=1020\n",
      "http://www.indeed.com/jobs?q=data+scientist+%2480%2C000&explvl=senior_level&jt=fulltime&sort=date&start=1020\n",
      "70000 5062 13106\n",
      "http://www.indeed.com/jobs?q=data+scientist+%2470%2C000&explvl=mid_level&jt=fulltime&sort=date&start=1020\n",
      "http://www.indeed.com/jobs?q=data+scientist+%2470%2C000&explvl=entry_level&jt=fulltime&sort=date&start=1020\n",
      "http://www.indeed.com/jobs?q=data+scientist+%2470%2C000&explvl=senior_level&jt=fulltime&sort=date&start=1010\n",
      "60000 5609 15659\n",
      "http://www.indeed.com/jobs?q=data+scientist+%2460%2C000&explvl=mid_level&jt=fulltime&sort=date&start=1010\n",
      "http://www.indeed.com/jobs?q=data+scientist+%2460%2C000&explvl=entry_level&jt=fulltime&sort=date&start=1030\n",
      "http://www.indeed.com/jobs?q=data+scientist+%2460%2C000&explvl=senior_level&jt=fulltime&sort=date&start=1010\n",
      "50000 6072 18214\n",
      "http://www.indeed.com/jobs?q=data+scientist+%2450%2C000&explvl=mid_level&jt=fulltime&sort=date&start=1030\n",
      "http://www.indeed.com/jobs?q=data+scientist+%2450%2C000&explvl=entry_level&jt=fulltime&sort=date&start=1010\n",
      "http://www.indeed.com/jobs?q=data+scientist+%2450%2C000&explvl=senior_level&jt=fulltime&sort=date&start=1010\n",
      "40000 6421 20769\n",
      "http://www.indeed.com/jobs?q=data+scientist+%2440%2C000&explvl=mid_level&jt=fulltime&sort=date&start=1020\n",
      "http://www.indeed.com/jobs?q=data+scientist+%2440%2C000&explvl=entry_level&jt=fulltime&sort=date&start=1020\n",
      "http://www.indeed.com/jobs?q=data+scientist+%2440%2C000&explvl=senior_level&jt=fulltime&sort=date&start=1010\n",
      "30000 6691 23326\n",
      "http://www.indeed.com/jobs?q=data+scientist+%2430%2C000&explvl=mid_level&jt=fulltime&sort=date&start=1020\n",
      "http://www.indeed.com/jobs?q=data+scientist+%2430%2C000&explvl=entry_level&jt=fulltime&sort=date&start=1020\n",
      "http://www.indeed.com/jobs?q=data+scientist+%2430%2C000&explvl=senior_level&jt=fulltime&sort=date&start=1020\n",
      "20000 6864 25907\n",
      "http://www.indeed.com/jobs?q=data+scientist+%2420%2C000&explvl=mid_level&jt=fulltime&sort=date&start=1020\n",
      "http://www.indeed.com/jobs?q=data+scientist+%2420%2C000&explvl=entry_level&jt=fulltime&sort=date&start=1020\n",
      "http://www.indeed.com/jobs?q=data+scientist+%2420%2C000&explvl=senior_level&jt=fulltime&sort=date&start=1010\n",
      "10000 6924 28407\n",
      "http://www.indeed.com/jobs?q=data+scientist+%2410%2C000&explvl=mid_level&jt=fulltime&sort=date&start=1010\n",
      "http://www.indeed.com/jobs?q=data+scientist+%2410%2C000&explvl=entry_level&jt=fulltime&sort=date&start=1010\n",
      "http://www.indeed.com/jobs?q=data+scientist+%2410%2C000&explvl=senior_level&jt=fulltime&sort=date&start=1030\n"
     ]
    }
   ],
   "source": [
    "#SCRAPE BY EXPERIENCE\n",
    "goscrape(exp_search = True,\n",
    "         outfile='indeed_companies_exp')"
   ]
  },
  {
   "cell_type": "code",
   "execution_count": 37,
   "metadata": {
    "collapsed": true
   },
   "outputs": [
    {
     "name": "stdout",
     "output_type": "stream",
     "text": [
      "200000 0 0\n",
      "http://au.indeed.com/jobs?q=data+scientist+%24200%2C000&explvl=mid_level&jt=fulltime&sort=date&start=10\n",
      "http://au.indeed.com/jobs?q=data+scientist+%24200%2C000&explvl=entry_level&jt=fulltime&sort=date&start=10\n",
      "http://au.indeed.com/jobs?q=data+scientist+%24200%2C000&explvl=senior_level&jt=fulltime&sort=date&start=10\n",
      "190000 1 3\n",
      "http://au.indeed.com/jobs?q=data+scientist+%24190%2C000&explvl=mid_level&jt=fulltime&sort=date&start=10\n",
      "http://au.indeed.com/jobs?q=data+scientist+%24190%2C000&explvl=entry_level&jt=fulltime&sort=date&start=10\n",
      "http://au.indeed.com/jobs?q=data+scientist+%24190%2C000&explvl=senior_level&jt=fulltime&sort=date&start=10\n",
      "180000 1 6\n",
      "http://au.indeed.com/jobs?q=data+scientist+%24180%2C000&explvl=mid_level&jt=fulltime&sort=date&start=10\n",
      "http://au.indeed.com/jobs?q=data+scientist+%24180%2C000&explvl=entry_level&jt=fulltime&sort=date&start=10\n",
      "http://au.indeed.com/jobs?q=data+scientist+%24180%2C000&explvl=senior_level&jt=fulltime&sort=date&start=10\n",
      "170000 1 9\n",
      "http://au.indeed.com/jobs?q=data+scientist+%24170%2C000&explvl=mid_level&jt=fulltime&sort=date&start=10\n",
      "http://au.indeed.com/jobs?q=data+scientist+%24170%2C000&explvl=entry_level&jt=fulltime&sort=date&start=10\n",
      "http://au.indeed.com/jobs?q=data+scientist+%24170%2C000&explvl=senior_level&jt=fulltime&sort=date&start=10\n",
      "160000 1 12\n",
      "http://au.indeed.com/jobs?q=data+scientist+%24160%2C000&explvl=mid_level&jt=fulltime&sort=date&start=10\n",
      "http://au.indeed.com/jobs?q=data+scientist+%24160%2C000&explvl=entry_level&jt=fulltime&sort=date&start=10\n",
      "http://au.indeed.com/jobs?q=data+scientist+%24160%2C000&explvl=senior_level&jt=fulltime&sort=date&start=10\n",
      "150000 1 15\n",
      "http://au.indeed.com/jobs?q=data+scientist+%24150%2C000&explvl=mid_level&jt=fulltime&sort=date&start=10\n",
      "http://au.indeed.com/jobs?q=data+scientist+%24150%2C000&explvl=entry_level&jt=fulltime&sort=date&start=10\n",
      "http://au.indeed.com/jobs?q=data+scientist+%24150%2C000&explvl=senior_level&jt=fulltime&sort=date&start=10\n",
      "140000 5 30\n",
      "http://au.indeed.com/jobs?q=data+scientist+%24140%2C000&explvl=mid_level&jt=fulltime&sort=date&start=20\n",
      "http://au.indeed.com/jobs?q=data+scientist+%24140%2C000&explvl=entry_level&jt=fulltime&sort=date&start=20\n",
      "http://au.indeed.com/jobs?q=data+scientist+%24140%2C000&explvl=senior_level&jt=fulltime&sort=date&start=20\n",
      "130000 13 69\n",
      "http://au.indeed.com/jobs?q=data+scientist+%24130%2C000&explvl=mid_level&jt=fulltime&sort=date&start=20\n",
      "http://au.indeed.com/jobs?q=data+scientist+%24130%2C000&explvl=entry_level&jt=fulltime&sort=date&start=20\n",
      "http://au.indeed.com/jobs?q=data+scientist+%24130%2C000&explvl=senior_level&jt=fulltime&sort=date&start=20\n",
      "120000 19 126\n",
      "http://au.indeed.com/jobs?q=data+scientist+%24120%2C000&explvl=mid_level&jt=fulltime&sort=date&start=30\n",
      "http://au.indeed.com/jobs?q=data+scientist+%24120%2C000&explvl=entry_level&jt=fulltime&sort=date&start=30\n",
      "http://au.indeed.com/jobs?q=data+scientist+%24120%2C000&explvl=senior_level&jt=fulltime&sort=date&start=30\n",
      "110000 25 197\n",
      "http://au.indeed.com/jobs?q=data+scientist+%24110%2C000&explvl=mid_level&jt=fulltime&sort=date&start=40\n",
      "http://au.indeed.com/jobs?q=data+scientist+%24110%2C000&explvl=entry_level&jt=fulltime&sort=date&start=40\n",
      "http://au.indeed.com/jobs?q=data+scientist+%24110%2C000&explvl=senior_level&jt=fulltime&sort=date&start=40\n",
      "100000 33 290\n",
      "http://au.indeed.com/jobs?q=data+scientist+%24100%2C000&explvl=mid_level&jt=fulltime&sort=date&start=40\n",
      "http://au.indeed.com/jobs?q=data+scientist+%24100%2C000&explvl=entry_level&jt=fulltime&sort=date&start=40\n",
      "http://au.indeed.com/jobs?q=data+scientist+%24100%2C000&explvl=senior_level&jt=fulltime&sort=date&start=40\n",
      "90000 42 410\n",
      "http://au.indeed.com/jobs?q=data+scientist+%2490%2C000&explvl=mid_level&jt=fulltime&sort=date&start=60\n",
      "http://au.indeed.com/jobs?q=data+scientist+%2490%2C000&explvl=entry_level&jt=fulltime&sort=date&start=60\n",
      "http://au.indeed.com/jobs?q=data+scientist+%2490%2C000&explvl=senior_level&jt=fulltime&sort=date&start=60\n",
      "80000 59 575\n",
      "http://au.indeed.com/jobs?q=data+scientist+%2480%2C000&explvl=mid_level&jt=fulltime&sort=date&start=70\n",
      "http://au.indeed.com/jobs?q=data+scientist+%2480%2C000&explvl=entry_level&jt=fulltime&sort=date&start=70\n",
      "http://au.indeed.com/jobs?q=data+scientist+%2480%2C000&explvl=senior_level&jt=fulltime&sort=date&start=70\n",
      "70000 67 767\n",
      "http://au.indeed.com/jobs?q=data+scientist+%2470%2C000&explvl=mid_level&jt=fulltime&sort=date&start=80\n",
      "http://au.indeed.com/jobs?q=data+scientist+%2470%2C000&explvl=entry_level&jt=fulltime&sort=date&start=80\n",
      "http://au.indeed.com/jobs?q=data+scientist+%2470%2C000&explvl=senior_level&jt=fulltime&sort=date&start=80\n",
      "60000 75 981\n",
      "http://au.indeed.com/jobs?q=data+scientist+%2460%2C000&explvl=mid_level&jt=fulltime&sort=date&start=80\n",
      "http://au.indeed.com/jobs?q=data+scientist+%2460%2C000&explvl=entry_level&jt=fulltime&sort=date&start=80\n",
      "http://au.indeed.com/jobs?q=data+scientist+%2460%2C000&explvl=senior_level&jt=fulltime&sort=date&start=80\n",
      "50000 81 1205\n",
      "http://au.indeed.com/jobs?q=data+scientist+%2450%2C000&explvl=mid_level&jt=fulltime&sort=date&start=80\n",
      "http://au.indeed.com/jobs?q=data+scientist+%2450%2C000&explvl=entry_level&jt=fulltime&sort=date&start=80\n",
      "http://au.indeed.com/jobs?q=data+scientist+%2450%2C000&explvl=senior_level&jt=fulltime&sort=date&start=90\n",
      "40000 82 1436\n",
      "http://au.indeed.com/jobs?q=data+scientist+%2440%2C000&explvl=mid_level&jt=fulltime&sort=date&start=80\n",
      "http://au.indeed.com/jobs?q=data+scientist+%2440%2C000&explvl=entry_level&jt=fulltime&sort=date&start=80\n",
      "http://au.indeed.com/jobs?q=data+scientist+%2440%2C000&explvl=senior_level&jt=fulltime&sort=date&start=80\n",
      "30000 82 1669\n",
      "http://au.indeed.com/jobs?q=data+scientist+%2430%2C000&explvl=mid_level&jt=fulltime&sort=date&start=80\n",
      "http://au.indeed.com/jobs?q=data+scientist+%2430%2C000&explvl=entry_level&jt=fulltime&sort=date&start=80\n",
      "http://au.indeed.com/jobs?q=data+scientist+%2430%2C000&explvl=senior_level&jt=fulltime&sort=date&start=80\n",
      "20000 82 1898\n",
      "http://au.indeed.com/jobs?q=data+scientist+%2420%2C000&explvl=mid_level&jt=fulltime&sort=date&start=80\n",
      "http://au.indeed.com/jobs?q=data+scientist+%2420%2C000&explvl=entry_level&jt=fulltime&sort=date&start=80\n",
      "http://au.indeed.com/jobs?q=data+scientist+%2420%2C000&explvl=senior_level&jt=fulltime&sort=date&start=80\n",
      "10000 83 2134\n",
      "http://au.indeed.com/jobs?q=data+scientist+%2410%2C000&explvl=mid_level&jt=fulltime&sort=date&start=80\n",
      "http://au.indeed.com/jobs?q=data+scientist+%2410%2C000&explvl=entry_level&jt=fulltime&sort=date&start=80\n",
      "http://au.indeed.com/jobs?q=data+scientist+%2410%2C000&explvl=senior_level&jt=fulltime&sort=date&start=80\n"
     ]
    }
   ],
   "source": [
    "#SCRAPE AUSTRALIAN\n",
    "goscrape(exp_search = True,\n",
    "         base_url = 'au.indeed.com',\n",
    "         outfile='indeed_companies_au_exp')"
   ]
  },
  {
   "cell_type": "markdown",
   "metadata": {
    "collapsed": true
   },
   "source": [
    "# Cleaning"
   ]
  },
  {
   "cell_type": "code",
   "execution_count": 4,
   "metadata": {
    "collapsed": false
   },
   "outputs": [],
   "source": [
    "df = pd.read_csv('indeed_companies_exp.csv', index_col = 0)\n",
    "df_au = pd.read_csv('indeed_companies_au_exp.csv', index_col = 0)\n",
    "df = pd.concat([df, df_au]).reset_index(drop=True)\n",
    "\n",
    "#standardize the location\n",
    "df['location'] = df['location'].apply(trim_location, spacechar = ' ')\n",
    "\n",
    "# posted days ago\n",
    "def clean_post_time(p):\n",
    "    if p == 'Today' or 'Just' in p:\n",
    "        return 0\n",
    "    for i in range(len(p)):\n",
    "        if not p[i].isdigit():\n",
    "            break\n",
    "    return int(p[:i])\n",
    "df['post_time'] = df['post_time'].apply(clean_post_time)\n",
    "\n",
    "#fillna\n",
    "df['salary_shown'] = np.isnan(df['real_salary_lower'])\n",
    "#df['real_salary_lower'] = df['real_salary_lower'].fillna(df['est_salary'])\n",
    "#df['real_salary_upper'] = df['real_salary_upper'].fillna(df['real_salary_lower'])\n",
    "#df['salary_range'] = df['real_salary_upper'] - df['real_salary_lower']\n",
    "\n",
    "# remove companies if they appear less than 5 times\n",
    "def retaincommon(col, thresh):\n",
    "    global df\n",
    "    counts = df[col].value_counts()\n",
    "    bigcounts = counts[counts > thresh]\n",
    "    df[col] = df[col].apply(lambda x: x if x in bigcounts else '-')\n",
    "\n",
    "retaincommon('company',4)\n",
    "retaincommon('location',4)\n",
    "    \n",
    "# word stems\n",
    "stem = nltk.stem.snowball.SnowballStemmer(\"english\").stem\n",
    "def stem2(s):\n",
    "    s2 = [stem(word.translate(None, string.punctuation)) for word in s.split()]\n",
    "    return ' '.join(s2)\n",
    "df['descriptionstem'] = df['description'].apply(stem2)\n",
    "df['titlestem'] = df['title'].apply(stem2)"
   ]
  },
  {
   "cell_type": "code",
   "execution_count": 396,
   "metadata": {
    "collapsed": true
   },
   "outputs": [],
   "source": [
    "# word vectorizer\n",
    "# exclude words that appear in less than 3 documents\n",
    "import sklearn.feature_extraction.text as txt\n",
    "tfidf = txt.TfidfVectorizer(min_df = 0.0025)\n",
    "\n",
    "tfidf.fit(df['descriptionstem'])\n",
    "descr_vect = pd.DataFrame(tfidf.transform(df['descriptionstem']).todense(),\n",
    "                          columns = map(lambda x: 'descr_' + x, tfidf.get_feature_names()))\n",
    "\n",
    "tfidf = txt.TfidfVectorizer(min_df = 0.0025)\n",
    "tfidf.fit(df['titlestem'])\n",
    "title_vect = pd.DataFrame(tfidf.transform(df['titlestem']).todense(),\n",
    "                          columns = map(lambda x: 'title_' + x, tfidf.get_feature_names()))\n",
    "\n",
    "# dummies\n",
    "dum = pd.get_dummies(df, columns=['company','location','exp_lvl'])\n",
    "# put it all together and drop redundant columns\n",
    "df2 = pd.concat([dum, descr_vect, title_vect], axis=1)\n",
    "df2 = df2.drop(['description','title','link','descriptionstem','titlestem'], 1)\n",
    "df2 = df2.drop(['real_salary_lower','real_salary_upper','est_salary'], 1)\n",
    "target = df['est_salary'] >= 100000"
   ]
  },
  {
   "cell_type": "markdown",
   "metadata": {},
   "source": [
    "# Analysis"
   ]
  },
  {
   "cell_type": "code",
   "execution_count": 397,
   "metadata": {
    "collapsed": false
   },
   "outputs": [],
   "source": [
    "import sklearn.linear_model as lm\n",
    "import sklearn.cross_validation as cv\n",
    "\n",
    "X_train, X_test, y_train, y_test = cv.train_test_split(df2, target)\n",
    "\n",
    "Est_logreg = lm.LogisticRegressionCV()\n",
    "Est_logreg.fit(X_train, y_train)\n",
    "preds = Est_logreg.predict(X_test)"
   ]
  },
  {
   "cell_type": "code",
   "execution_count": 398,
   "metadata": {
    "collapsed": false
   },
   "outputs": [
    {
     "data": {
      "text/plain": [
       "array([[627, 163],\n",
       "       [158, 811]])"
      ]
     },
     "execution_count": 398,
     "metadata": {},
     "output_type": "execute_result"
    }
   ],
   "source": [
    "import sklearn.metrics as met\n",
    "met.confusion_matrix(preds, y_test)"
   ]
  },
  {
   "cell_type": "code",
   "execution_count": 399,
   "metadata": {
    "collapsed": false,
    "scrolled": true
   },
   "outputs": [],
   "source": [
    "coefs = pd.DataFrame(Est_logreg.coef_[0], index=df2.columns, columns = ['coef'])\n",
    "coefs = coefs[coefs['coef']!=0]\n",
    "\n",
    "def getcoefs(word):\n",
    "    words = [x for x in coefs.index if word in x]\n",
    "    #word_counts = df2[].apply(sum, axis=1)\n",
    "    word_coefs = coefs.loc[words].sort_values('coef', ascending=False)\n",
    "    #return word_coefs\n",
    "    return pd.merge(word_coefs, \n",
    "                    pd.DataFrame(df2.apply(sum), columns = ['sum']), \n",
    "                    left_index = True, \n",
    "                    right_index = True).sort_values('coef', ascending=False)\n",
    "\n",
    "#dummies coefs\n",
    "comp_coefs = getcoefs('company')\n",
    "exp_coefs = getcoefs('exp_lvl')\n",
    "loc_coefs = getcoefs('location')\n",
    "\n",
    "#tfids coefs\n",
    "title_coefs = getcoefs('title')\n",
    "descr_coefs = getcoefs('descr')\n",
    "\n",
    "#others\n",
    "post_time_coef = coefs.loc['post_time',:]\n",
    "salary_shown_coef = coefs.loc['salary_shown']"
   ]
  },
  {
   "cell_type": "markdown",
   "metadata": {},
   "source": [
    "# Plots"
   ]
  },
  {
   "cell_type": "code",
   "execution_count": 8,
   "metadata": {
    "collapsed": false
   },
   "outputs": [
    {
     "data": {
      "text/plain": [
       "(array([   89.,   443.,   819.,  1320.,  1317.,  1765.,  1023.,   195.,\n",
       "           37.,    27.]),\n",
       " array([  10000.,   29000.,   48000.,   67000.,   86000.,  105000.,\n",
       "         124000.,  143000.,  162000.,  181000.,  200000.]),\n",
       " <a list of 10 Patch objects>)"
      ]
     },
     "execution_count": 8,
     "metadata": {},
     "output_type": "execute_result"
    },
    {
     "data": {
      "image/png": "[encoded data removed]",
      "text/plain": [
       "<matplotlib.figure.Figure at 0x7f183f2e2910>"
      ]
     },
     "metadata": {},
     "output_type": "display_data"
    }
   ],
   "source": [
    "import matplotlib.pyplot as plt\n",
    "%matplotlib inline\n",
    "plt.hist(df['est_salary'])"
   ]
  },
  {
   "cell_type": "code",
   "execution_count": 403,
   "metadata": {
    "collapsed": false
   },
   "outputs": [
    {
     "data": {
      "image/png": "[encoded data removed]",
      "text/plain": [
       "<matplotlib.figure.Figure at 0x7f40061764d0>"
      ]
     },
     "metadata": {},
     "output_type": "display_data"
    }
   ],
   "source": [
    "import matplotlib.pyplot as plt\n",
    "%matplotlib inline\n",
    "\n",
    "def plot_coefs(coef_df):\n",
    "    coef_df['dist'] = np.absolute(np.sqrt(coef_df['sum']) * coef_df['coef'])\n",
    "\n",
    "    plt.figure(figsize=(14,10))\n",
    "    plt.grid()\n",
    "    for label, y, x in coef_df.sort_values('dist').drop('dist',1).tail(15).itertuples():\n",
    "        label = label[6:]\n",
    "        plt.annotate(label, xy=(x,y), size=15)\n",
    "        #plt.annotate(label, xy=(x,y), size=17)\n",
    "        #break\n",
    "    plt.scatter(coef_df['sum'], coef_df['coef'])\n",
    "\n",
    "plot_coefs(title_coefs)"
   ]
  },
  {
   "cell_type": "code",
   "execution_count": 404,
   "metadata": {
    "collapsed": false
   },
   "outputs": [
    {
     "data": {
      "image/png": "[encoded data removed]",
      "text/plain": [
       "<matplotlib.figure.Figure at 0x7f4006309f50>"
      ]
     },
     "metadata": {},
     "output_type": "display_data"
    }
   ],
   "source": [
    "plot_coefs(descr_coefs)"
   ]
  },
  {
   "cell_type": "code",
   "execution_count": 409,
   "metadata": {
    "collapsed": false
   },
   "outputs": [
    {
     "data": {
      "text/html": [
       "<div>\n",
       "<table border=\"1\" class=\"dataframe\">\n",
       "  <thead>\n",
       "    <tr style=\"text-align: right;\">\n",
       "      <th></th>\n",
       "      <th>coef</th>\n",
       "      <th>sum</th>\n",
       "    </tr>\n",
       "  </thead>\n",
       "  <tbody>\n",
       "    <tr>\n",
       "      <th>company_Centers for Disease Control and Prevention</th>\n",
       "      <td>2.783267</td>\n",
       "      <td>7.0</td>\n",
       "    </tr>\n",
       "    <tr>\n",
       "      <th>company_Capital One</th>\n",
       "      <td>2.475480</td>\n",
       "      <td>48.0</td>\n",
       "    </tr>\n",
       "    <tr>\n",
       "      <th>company_Boehringer Ingelheim</th>\n",
       "      <td>2.374997</td>\n",
       "      <td>10.0</td>\n",
       "    </tr>\n",
       "    <tr>\n",
       "      <th>company_Sandia National Laboratories</th>\n",
       "      <td>2.275256</td>\n",
       "      <td>21.0</td>\n",
       "    </tr>\n",
       "    <tr>\n",
       "      <th>company_Booz Allen Hamilton</th>\n",
       "      <td>2.077936</td>\n",
       "      <td>42.0</td>\n",
       "    </tr>\n",
       "    <tr>\n",
       "      <th>company_Clinical Solutions Group</th>\n",
       "      <td>2.070445</td>\n",
       "      <td>6.0</td>\n",
       "    </tr>\n",
       "    <tr>\n",
       "      <th>company_Saudi Aramco</th>\n",
       "      <td>1.854918</td>\n",
       "      <td>14.0</td>\n",
       "    </tr>\n",
       "    <tr>\n",
       "      <th>company_Workbridge Associates</th>\n",
       "      <td>1.668180</td>\n",
       "      <td>40.0</td>\n",
       "    </tr>\n",
       "    <tr>\n",
       "      <th>company_Amazon Corporate LLC</th>\n",
       "      <td>1.528244</td>\n",
       "      <td>194.0</td>\n",
       "    </tr>\n",
       "    <tr>\n",
       "      <th>company_Inscopix</th>\n",
       "      <td>1.518784</td>\n",
       "      <td>5.0</td>\n",
       "    </tr>\n",
       "    <tr>\n",
       "      <th>company_Ball Aerospace</th>\n",
       "      <td>-1.440236</td>\n",
       "      <td>41.0</td>\n",
       "    </tr>\n",
       "    <tr>\n",
       "      <th>company_University of California San Francisco</th>\n",
       "      <td>-1.515970</td>\n",
       "      <td>6.0</td>\n",
       "    </tr>\n",
       "    <tr>\n",
       "      <th>company_Merck</th>\n",
       "      <td>-1.681843</td>\n",
       "      <td>56.0</td>\n",
       "    </tr>\n",
       "    <tr>\n",
       "      <th>company_Genentech</th>\n",
       "      <td>-1.686054</td>\n",
       "      <td>10.0</td>\n",
       "    </tr>\n",
       "    <tr>\n",
       "      <th>company_Gigster</th>\n",
       "      <td>-1.888372</td>\n",
       "      <td>7.0</td>\n",
       "    </tr>\n",
       "    <tr>\n",
       "      <th>company_NBI Resources</th>\n",
       "      <td>-1.944227</td>\n",
       "      <td>6.0</td>\n",
       "    </tr>\n",
       "    <tr>\n",
       "      <th>company_Leidos</th>\n",
       "      <td>-1.991123</td>\n",
       "      <td>14.0</td>\n",
       "    </tr>\n",
       "    <tr>\n",
       "      <th>company_GRAIL, Inc.</th>\n",
       "      <td>-1.991282</td>\n",
       "      <td>5.0</td>\n",
       "    </tr>\n",
       "    <tr>\n",
       "      <th>company_Draper Laboratory</th>\n",
       "      <td>-2.005737</td>\n",
       "      <td>5.0</td>\n",
       "    </tr>\n",
       "    <tr>\n",
       "      <th>company_Home Depot</th>\n",
       "      <td>-2.227215</td>\n",
       "      <td>6.0</td>\n",
       "    </tr>\n",
       "  </tbody>\n",
       "</table>\n",
       "</div>"
      ],
      "text/plain": [
       "                                                        coef    sum\n",
       "company_Centers for Disease Control and Prevention  2.783267    7.0\n",
       "company_Capital One                                 2.475480   48.0\n",
       "company_Boehringer Ingelheim                        2.374997   10.0\n",
       "company_Sandia National Laboratories                2.275256   21.0\n",
       "company_Booz Allen Hamilton                         2.077936   42.0\n",
       "company_Clinical Solutions Group                    2.070445    6.0\n",
       "company_Saudi Aramco                                1.854918   14.0\n",
       "company_Workbridge Associates                       1.668180   40.0\n",
       "company_Amazon Corporate LLC                        1.528244  194.0\n",
       "company_Inscopix                                    1.518784    5.0\n",
       "company_Ball Aerospace                             -1.440236   41.0\n",
       "company_University of California San Francisco     -1.515970    6.0\n",
       "company_Merck                                      -1.681843   56.0\n",
       "company_Genentech                                  -1.686054   10.0\n",
       "company_Gigster                                    -1.888372    7.0\n",
       "company_NBI Resources                              -1.944227    6.0\n",
       "company_Leidos                                     -1.991123   14.0\n",
       "company_GRAIL, Inc.                                -1.991282    5.0\n",
       "company_Draper Laboratory                          -2.005737    5.0\n",
       "company_Home Depot                                 -2.227215    6.0"
      ]
     },
     "execution_count": 409,
     "metadata": {},
     "output_type": "execute_result"
    }
   ],
   "source": [
    "pd.concat([comp_coefs.head(10), comp_coefs.tail(10)])"
   ]
  },
  {
   "cell_type": "code",
   "execution_count": 410,
   "metadata": {
    "collapsed": false
   },
   "outputs": [
    {
     "data": {
      "text/html": [
       "<div>\n",
       "<table border=\"1\" class=\"dataframe\">\n",
       "  <thead>\n",
       "    <tr style=\"text-align: right;\">\n",
       "      <th></th>\n",
       "      <th>coef</th>\n",
       "      <th>sum</th>\n",
       "    </tr>\n",
       "  </thead>\n",
       "  <tbody>\n",
       "    <tr>\n",
       "      <th>location_San Ramon, CA</th>\n",
       "      <td>2.211459</td>\n",
       "      <td>23.0</td>\n",
       "    </tr>\n",
       "    <tr>\n",
       "      <th>location_Summit, NJ</th>\n",
       "      <td>2.063147</td>\n",
       "      <td>15.0</td>\n",
       "    </tr>\n",
       "    <tr>\n",
       "      <th>location_South San Francisco, CA</th>\n",
       "      <td>1.910076</td>\n",
       "      <td>51.0</td>\n",
       "    </tr>\n",
       "    <tr>\n",
       "      <th>location_Denver, CO</th>\n",
       "      <td>1.818408</td>\n",
       "      <td>19.0</td>\n",
       "    </tr>\n",
       "    <tr>\n",
       "      <th>location_Richardson, TX</th>\n",
       "      <td>1.795708</td>\n",
       "      <td>6.0</td>\n",
       "    </tr>\n",
       "    <tr>\n",
       "      <th>location_Wisconsin</th>\n",
       "      <td>1.718280</td>\n",
       "      <td>6.0</td>\n",
       "    </tr>\n",
       "    <tr>\n",
       "      <th>location_San Jose, CA</th>\n",
       "      <td>1.684216</td>\n",
       "      <td>63.0</td>\n",
       "    </tr>\n",
       "    <tr>\n",
       "      <th>location_Novato, CA</th>\n",
       "      <td>1.668296</td>\n",
       "      <td>6.0</td>\n",
       "    </tr>\n",
       "    <tr>\n",
       "      <th>location_Mountain View, CA</th>\n",
       "      <td>1.661114</td>\n",
       "      <td>97.0</td>\n",
       "    </tr>\n",
       "    <tr>\n",
       "      <th>location_Spring House, PA</th>\n",
       "      <td>1.600524</td>\n",
       "      <td>18.0</td>\n",
       "    </tr>\n",
       "    <tr>\n",
       "      <th>location_Cary, NC</th>\n",
       "      <td>-1.464260</td>\n",
       "      <td>5.0</td>\n",
       "    </tr>\n",
       "    <tr>\n",
       "      <th>location_Oakland, CA</th>\n",
       "      <td>-1.471340</td>\n",
       "      <td>13.0</td>\n",
       "    </tr>\n",
       "    <tr>\n",
       "      <th>location_Frederick, MD</th>\n",
       "      <td>-1.504525</td>\n",
       "      <td>12.0</td>\n",
       "    </tr>\n",
       "    <tr>\n",
       "      <th>location_Queens, NY</th>\n",
       "      <td>-1.517044</td>\n",
       "      <td>16.0</td>\n",
       "    </tr>\n",
       "    <tr>\n",
       "      <th>location_El Segundo, CA</th>\n",
       "      <td>-1.517459</td>\n",
       "      <td>18.0</td>\n",
       "    </tr>\n",
       "    <tr>\n",
       "      <th>location_Madison, WI</th>\n",
       "      <td>-1.521857</td>\n",
       "      <td>28.0</td>\n",
       "    </tr>\n",
       "    <tr>\n",
       "      <th>location_Springfield, VA</th>\n",
       "      <td>-1.570402</td>\n",
       "      <td>22.0</td>\n",
       "    </tr>\n",
       "    <tr>\n",
       "      <th>location_Home Based</th>\n",
       "      <td>-1.628343</td>\n",
       "      <td>6.0</td>\n",
       "    </tr>\n",
       "    <tr>\n",
       "      <th>location_Alpharetta, GA</th>\n",
       "      <td>-1.677271</td>\n",
       "      <td>36.0</td>\n",
       "    </tr>\n",
       "    <tr>\n",
       "      <th>location_Norfolk, VA</th>\n",
       "      <td>-1.687174</td>\n",
       "      <td>9.0</td>\n",
       "    </tr>\n",
       "  </tbody>\n",
       "</table>\n",
       "</div>"
      ],
      "text/plain": [
       "                                      coef   sum\n",
       "location_San Ramon, CA            2.211459  23.0\n",
       "location_Summit, NJ               2.063147  15.0\n",
       "location_South San Francisco, CA  1.910076  51.0\n",
       "location_Denver, CO               1.818408  19.0\n",
       "location_Richardson, TX           1.795708   6.0\n",
       "location_Wisconsin                1.718280   6.0\n",
       "location_San Jose, CA             1.684216  63.0\n",
       "location_Novato, CA               1.668296   6.0\n",
       "location_Mountain View, CA        1.661114  97.0\n",
       "location_Spring House, PA         1.600524  18.0\n",
       "location_Cary, NC                -1.464260   5.0\n",
       "location_Oakland, CA             -1.471340  13.0\n",
       "location_Frederick, MD           -1.504525  12.0\n",
       "location_Queens, NY              -1.517044  16.0\n",
       "location_El Segundo, CA          -1.517459  18.0\n",
       "location_Madison, WI             -1.521857  28.0\n",
       "location_Springfield, VA         -1.570402  22.0\n",
       "location_Home Based              -1.628343   6.0\n",
       "location_Alpharetta, GA          -1.677271  36.0\n",
       "location_Norfolk, VA             -1.687174   9.0"
      ]
     },
     "execution_count": 410,
     "metadata": {},
     "output_type": "execute_result"
    }
   ],
   "source": [
    "pd.concat([loc_coefs.head(10), loc_coefs.tail(10)])"
   ]
  },
  {
   "cell_type": "code",
   "execution_count": 426,
   "metadata": {
    "collapsed": false
   },
   "outputs": [
    {
     "data": {
      "text/html": [
       "<div>\n",
       "<table border=\"1\" class=\"dataframe\">\n",
       "  <thead>\n",
       "    <tr style=\"text-align: right;\">\n",
       "      <th></th>\n",
       "      <th>coef</th>\n",
       "      <th>sum</th>\n",
       "    </tr>\n",
       "  </thead>\n",
       "  <tbody>\n",
       "    <tr>\n",
       "      <th>location_Melbourne VIC</th>\n",
       "      <td>0.287353</td>\n",
       "      <td>13.0</td>\n",
       "    </tr>\n",
       "    <tr>\n",
       "      <th>location_Sydney NSW</th>\n",
       "      <td>-0.699341</td>\n",
       "      <td>43.0</td>\n",
       "    </tr>\n",
       "  </tbody>\n",
       "</table>\n",
       "</div>"
      ],
      "text/plain": [
       "                            coef   sum\n",
       "location_Melbourne VIC  0.287353  13.0\n",
       "location_Sydney NSW    -0.699341  43.0"
      ]
     },
     "execution_count": 426,
     "metadata": {},
     "output_type": "execute_result"
    }
   ],
   "source": [
    "loc_coefs.loc[[word for word in loc_coefs.index if 'NSW' in word or 'VIC' in word]]"
   ]
  },
  {
   "cell_type": "code",
   "execution_count": null,
   "metadata": {
    "collapsed": true
   },
   "outputs": [],
   "source": []
  }
 ],
 "metadata": {
  "kernelspec": {
   "display_name": "Python [Root]",
   "language": "python",
   "name": "Python [Root]"
  },
  "language_info": {
   "codemirror_mode": {
    "name": "ipython",
    "version": 2
   },
   "file_extension": ".py",
   "mimetype": "text/x-python",
   "name": "python",
   "nbconvert_exporter": "python",
   "pygments_lexer": "ipython2",
   "version": "2.7.12"
  }
 },
 "nbformat": 4,
 "nbformat_minor": 0
}
